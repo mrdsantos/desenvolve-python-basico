{
  "cells": [
    {
      "cell_type": "markdown",
      "id": "0d5035b5",
      "metadata": {
        "id": "0d5035b5"
      },
      "source": [
        "# Tupla\n",
        "\n",
        "## Aula 8.2"
      ]
    },
    {
      "cell_type": "markdown",
      "id": "0bdece85",
      "metadata": {
        "id": "0bdece85"
      },
      "source": [
        "### Q1.\n",
        "\n",
        "Escreva uma função ```calcula_area_perimetro``` que recebe **apenas um parâmetro** ```dimensoes``` e calcula a área e o perímetro a partir das dimensões dadas.\n",
        "- ```dimensoes``` é uma tupla (largura, comprimento) com as dimensões de um terreno retangular\n",
        "- Sua função deve calcular e retornar as seguintes operações\n",
        "   - $area = largura \\times comprimento$\n",
        "   - $perimetro = 2\\times(largura + comprimento)$\n"
      ]
    },
    {
      "cell_type": "code",
      "execution_count": 4,
      "id": "0a258eba",
      "metadata": {
        "id": "0a258eba"
      },
      "outputs": [],
      "source": [
        "def calcula_area_perimetro(dimensoes):\n",
        "    # Desempacotar a tupla em largura e comprimento\n",
        "    largura, comprimento = dimensoes\n",
        "\n",
        "    # Calcular a área\n",
        "    area = largura * comprimento\n",
        "\n",
        "    # Calcular o perímetro\n",
        "    perimetro = 2 * (largura + comprimento)\n",
        "\n",
        "    # Retornar a área e o perímetro\n",
        "    return area, perimetro\n"
      ]
    },
    {
      "cell_type": "code",
      "execution_count": 8,
      "id": "e1866c04",
      "metadata": {
        "colab": {
          "base_uri": "https://localhost:8080/"
        },
        "id": "e1866c04",
        "outputId": "e61d8fdb-50b8-45c3-8fe7-e89a31ac2f55"
      },
      "outputs": [
        {
          "output_type": "stream",
          "name": "stdout",
          "text": [
            "(35, 24) <class 'tuple'>\n"
          ]
        }
      ],
      "source": [
        "# Complete o exemplo de uso abaixo\n",
        "largura = 5\n",
        "comprimento = 7\n",
        "\n",
        "retorno = calcula_area_perimetro((largura, comprimento))\n",
        "print(retorno, type(retorno))"
      ]
    },
    {
      "cell_type": "markdown",
      "id": "cbdcb986",
      "metadata": {
        "id": "cbdcb986"
      },
      "source": [
        "### Q2.\n",
        "\n",
        "Dada uma string, imprima todas as vogais que aparecem na string, bem como todos os índices onde elas ocorrem. Para isso, use a função ```enumerate```.\n"
      ]
    },
    {
      "cell_type": "code",
      "execution_count": 9,
      "id": "1f6b1f2d",
      "metadata": {
        "colab": {
          "base_uri": "https://localhost:8080/"
        },
        "id": "1f6b1f2d",
        "outputId": "4e70e676-44ac-4e05-aad0-f66ad4c386c0"
      },
      "outputs": [
        {
          "output_type": "stream",
          "name": "stdout",
          "text": [
            "Vogal: O, Índice: 0\n",
            "Vogal: a, Índice: 3\n",
            "Vogal: o, Índice: 5\n",
            "Vogal: o, Índice: 8\n",
            "Vogal: e, Índice: 9\n",
            "Vogal: u, Índice: 10\n",
            "Vogal: a, Índice: 12\n",
            "Vogal: o, Índice: 15\n",
            "Vogal: u, Índice: 16\n",
            "Vogal: a, Índice: 18\n",
            "Vogal: a, Índice: 21\n",
            "Vogal: A, Índice: 23\n",
            "Vogal: i, Índice: 25\n",
            "Vogal: e, Índice: 27\n"
          ]
        }
      ],
      "source": [
        "frase = \"O rato roeu a roupa da Alice\"\n",
        "\n",
        "def imprimir_vogais_e_indices(frase):\n",
        "    # Definir o conjunto de vogais\n",
        "    vogais = \"aeiouAEIOU\"\n",
        "\n",
        "    # Usar list comprehension para encontrar as vogais e seus índices\n",
        "    vogais_e_indices = [(index, caractere) for index, caractere in enumerate(frase) if caractere in vogais]\n",
        "\n",
        "    # Imprimir o resultado\n",
        "    for index, caractere in vogais_e_indices:\n",
        "        print(f\"Vogal: {caractere}, Índice: {index}\")\n",
        "\n",
        "imprimir_vogais_e_indices(frase)\n"
      ]
    },
    {
      "cell_type": "markdown",
      "id": "8d46663f",
      "metadata": {
        "id": "8d46663f"
      },
      "source": [
        "### Q3.\n",
        "\n",
        "Escreva uma função em Python chamada ```ordenar_tuplas``` que recebe uma lista de tuplas, cada uma contendo o nome de um aluno e sua respectiva média, e retorna uma nova lista ordenada em ordem decrescente de médias."
      ]
    },
    {
      "cell_type": "code",
      "execution_count": 10,
      "id": "469f2e6e",
      "metadata": {
        "id": "469f2e6e"
      },
      "outputs": [],
      "source": [
        "def ordenar_tuplas(lista_tuplas):\n",
        "    # Ordena a lista de tuplas com base na média (segundo elemento da tupla) em ordem decrescente\n",
        "    return sorted(lista_tuplas, key=lambda x: x[1], reverse=True)"
      ]
    },
    {
      "cell_type": "code",
      "execution_count": 11,
      "id": "1972c62b",
      "metadata": {
        "colab": {
          "base_uri": "https://localhost:8080/"
        },
        "id": "1972c62b",
        "outputId": "723fd468-b140-4bf1-c409-698fe9910ade"
      },
      "outputs": [
        {
          "output_type": "stream",
          "name": "stdout",
          "text": [
            "[('Charlie', 9.0), ('David', 8.8), ('Alice', 8.5), ('Bob', 7.2)]\n"
          ]
        }
      ],
      "source": [
        "# Exemplo de uso:\n",
        "alunos_notas = [('Alice', 8.5), ('Bob', 7.2), ('Charlie', 9.0), ('David', 8.8)]\n",
        "resultado = ordenar_tuplas(alunos_notas)\n",
        "print(resultado)\n",
        "# Saída esperada: [('Charlie', 9.0), ('David', 8.8), ('Alice', 8.5), ('Bob', 7.2)]"
      ]
    },
    {
      "cell_type": "markdown",
      "id": "e0268fae",
      "metadata": {
        "id": "e0268fae"
      },
      "source": [
        "### Q4.\n",
        "\n",
        "Escreva uma função em Python chamada ```comprimir_tuplas``` que recebe uma lista de tuplas, cada uma contendo uma palavra e um número, e retorna uma nova lista de tuplas onde palavras idênticas são agrupadas e seus números são somados.\n",
        "\n"
      ]
    },
    {
      "cell_type": "code",
      "execution_count": 13,
      "id": "30a221f3",
      "metadata": {
        "id": "30a221f3"
      },
      "outputs": [],
      "source": [
        "def comprimir_tuplas(tuplasOriginais):\n",
        "    # Criar um dicionário para acumular as somas das palavras\n",
        "    dicionarioAcumulado = {}\n",
        "\n",
        "    # Iterar sobre a lista de tuplas\n",
        "    for palavra, numero in tuplasOriginais:\n",
        "        # Se a palavra já estiver no dicionário, adicionar o número\n",
        "        if palavra in dicionarioAcumulado:\n",
        "            dicionarioAcumulado[palavra] += numero\n",
        "        # Caso contrário, adicionar a nova palavra ao dicionário\n",
        "        else:\n",
        "            dicionarioAcumulado[palavra] = numero\n",
        "\n",
        "    # Converter o dicionário de volta para uma lista de tuplas\n",
        "    listaComprimida = list(dicionarioAcumulado.items())\n",
        "\n",
        "    return listaComprimida"
      ]
    },
    {
      "cell_type": "code",
      "execution_count": 14,
      "id": "80972bac",
      "metadata": {
        "colab": {
          "base_uri": "https://localhost:8080/"
        },
        "id": "80972bac",
        "outputId": "8cd574b4-1a3f-4fdf-ad24-5ab5b9b56495"
      },
      "outputs": [
        {
          "output_type": "stream",
          "name": "stdout",
          "text": [
            "[('maçã', 8), ('banana', 5), ('laranja', 1)]\n"
          ]
        }
      ],
      "source": [
        "# Exemplo de uso:\n",
        "tuplas_originais = [('maçã', 3), ('banana', 2), ('maçã', 5), ('laranja', 1), ('banana', 3)]\n",
        "resultado = comprimir_tuplas(tuplas_originais)\n",
        "print(resultado)\n",
        "# Saída esperada: [('maçã', 8), ('banana', 5), ('laranja', 1)]"
      ]
    },
    {
      "cell_type": "markdown",
      "id": "649a5082",
      "metadata": {
        "id": "649a5082"
      },
      "source": [
        "### Q5.\n",
        "\n",
        "- Escreva um script que peça o nome e a idade de todos na fila de uma balada. Crie uma lista de tuplas com os pares ```(nome, idade)``` de cada um.\n",
        "- Em seguida crie e imprima duas tuplas apenas com os nomes, uma com os menores de idade que não poderão entrar, e uma com os maiores de idade (```idade >= 18```).\n",
        "\n"
      ]
    },
    {
      "cell_type": "code",
      "execution_count": 15,
      "id": "47cb0573",
      "metadata": {
        "colab": {
          "base_uri": "https://localhost:8080/"
        },
        "id": "47cb0573",
        "outputId": "8d450444-614f-491f-fcc7-9a6286d1294e"
      },
      "outputs": [
        {
          "output_type": "stream",
          "name": "stdout",
          "text": [
            "Digite o nome (ou 'fim' para encerrar): Maria\n",
            "Digite a idade de Maria: 17\n",
            "Digite o nome (ou 'fim' para encerrar): Lucas\n",
            "Digite a idade de Lucas: 19\n",
            "Digite o nome (ou 'fim' para encerrar): Loise\n",
            "Digite a idade de Loise: 22\n",
            "Digite o nome (ou 'fim' para encerrar): Joao\n",
            "Digite a idade de Joao: 11\n",
            "Digite o nome (ou 'fim' para encerrar): Thereza\n",
            "Digite a idade de Thereza: 34\n",
            "Digite o nome (ou 'fim' para encerrar): fim\n",
            "Menores de idade que não poderão entrar: ('Maria', 'Joao')\n",
            "Maiores de idade que poderão entrar: ('Lucas', 'Loise', 'Thereza')\n"
          ]
        }
      ],
      "source": [
        "def obter_dados_fila():\n",
        "    # Lista para armazenar os pares (nome, idade)\n",
        "    listaPessoas = []\n",
        "\n",
        "    while True:\n",
        "        # Solicitar nome\n",
        "        nome = input(\"Digite o nome (ou 'fim' para encerrar): \")\n",
        "        if nome.lower() == 'fim':\n",
        "            break\n",
        "        # Solicitar idade\n",
        "        idade = int(input(f\"Digite a idade de {nome}: \"))\n",
        "        # Adicionar o par (nome, idade) à lista\n",
        "        listaPessoas.append((nome, idade))\n",
        "\n",
        "    return listaPessoas\n",
        "\n",
        "def separar_por_idade(listaPessoas):\n",
        "    # Listas para armazenar os nomes dos menores e maiores de idade\n",
        "    nomesMenores = tuple(nome for nome, idade in listaPessoas if idade < 18)\n",
        "    nomesMaiores = tuple(nome for nome, idade in listaPessoas if idade >= 18)\n",
        "\n",
        "    return nomesMenores, nomesMaiores\n",
        "\n",
        "# Obter os dados da fila\n",
        "listaPessoas = obter_dados_fila()\n",
        "\n",
        "# Separar os nomes por idade\n",
        "nomesMenores, nomesMaiores = separar_por_idade(listaPessoas)\n",
        "\n",
        "# Imprimir os resultados\n",
        "print(\"Menores de idade que não poderão entrar:\", nomesMenores)\n",
        "print(\"Maiores de idade que poderão entrar:\", nomesMaiores)\n"
      ]
    }
  ],
  "metadata": {
    "kernelspec": {
      "display_name": "Python 3 (ipykernel)",
      "language": "python",
      "name": "python3"
    },
    "language_info": {
      "codemirror_mode": {
        "name": "ipython",
        "version": 3
      },
      "file_extension": ".py",
      "mimetype": "text/x-python",
      "name": "python",
      "nbconvert_exporter": "python",
      "pygments_lexer": "ipython3",
      "version": "3.9.6"
    },
    "colab": {
      "provenance": []
    }
  },
  "nbformat": 4,
  "nbformat_minor": 5
}