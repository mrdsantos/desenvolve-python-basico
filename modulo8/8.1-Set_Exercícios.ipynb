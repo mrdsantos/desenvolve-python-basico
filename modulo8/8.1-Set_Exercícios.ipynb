{
  "cells": [
    {
      "cell_type": "markdown",
      "id": "0d5035b5",
      "metadata": {
        "id": "0d5035b5"
      },
      "source": [
        "# Set\n",
        "\n",
        "## Aula 8.1"
      ]
    },
    {
      "cell_type": "markdown",
      "id": "0bdece85",
      "metadata": {
        "id": "0bdece85"
      },
      "source": [
        "### Q1.\n",
        "\n",
        "Dada uma string qualquer, use seu conhecimento de sets para apresentar os caracteres únicos que aparecem na string, ordenados alfabeticamente e sem duplicatas. Preste atenção em duplicatas de maiúsculas e minúsculas.\n"
      ]
    },
    {
      "cell_type": "code",
      "execution_count": null,
      "id": "0a258eba",
      "metadata": {
        "colab": {
          "base_uri": "https://localhost:8080/"
        },
        "id": "0a258eba",
        "outputId": "08349989-9aae-4076-f674-9667bac76c17"
      },
      "outputs": [
        {
          "output_type": "stream",
          "name": "stdout",
          "text": [
            " abdenoprstu\n"
          ]
        }
      ],
      "source": [
        "frase = \"O rato roeu a roupa do Robson\"\n",
        "\n",
        "def caracteres_unicos_ordenados(str):\n",
        "    # Transformar a string para minúsculas\n",
        "    str = str.lower()\n",
        "\n",
        "    # Criar um conjunto para remover duplicatas\n",
        "    caracteres_unicos = set(str)\n",
        "\n",
        "    # Ordenar os caracteres\n",
        "    caracteres_ordenados = sorted(caracteres_unicos)\n",
        "\n",
        "    # Retornar como uma string\n",
        "    return ''.join(caracteres_ordenados)\n",
        "\n",
        "# Exemplo de uso\n",
        "print(caracteres_unicos_ordenados(frase))\n",
        "\n"
      ]
    },
    {
      "cell_type": "markdown",
      "id": "0856bd56",
      "metadata": {
        "id": "0856bd56"
      },
      "source": [
        "### Q2\n",
        "\n",
        "Desenvolva uma função em Python chamada ```tem_elementos_comuns()``` que recebe duas listas como parâmetros e retorna True se houver algum elemento comum entre as duas listas, e False caso contrário. Utilize sets para resolver essa tarefa."
      ]
    },
    {
      "cell_type": "code",
      "execution_count": null,
      "id": "f7ab6736",
      "metadata": {
        "id": "f7ab6736"
      },
      "outputs": [],
      "source": [
        "def tem_elementos_comuns(lista1, lista2):\n",
        "    # Converter as listas para sets\n",
        "    set1 = set(lista1)\n",
        "    set2 = set(lista2)\n",
        "\n",
        "    # Verificar se há interseção entre os dois sets\n",
        "    return not set1.isdisjoint(set2)\n"
      ]
    },
    {
      "cell_type": "code",
      "execution_count": null,
      "id": "1022744a",
      "metadata": {
        "colab": {
          "base_uri": "https://localhost:8080/"
        },
        "id": "1022744a",
        "outputId": "6e2f7d1b-7559-46c9-a9bc-7e10c18039f7"
      },
      "outputs": [
        {
          "output_type": "stream",
          "name": "stdout",
          "text": [
            "True\n"
          ]
        }
      ],
      "source": [
        "# Execute esta célula para testar a função da Q2.\n",
        "\n",
        "lista1 = [1, 2, 3, 4]\n",
        "lista2 = [3, 4, 5, 6, 7]\n",
        "resultado = tem_elementos_comuns(lista1, lista2)\n",
        "print(resultado)  # Saída esperada: True"
      ]
    },
    {
      "cell_type": "markdown",
      "id": "649a5082",
      "metadata": {
        "id": "649a5082"
      },
      "source": [
        "### Q3.\n",
        "\n",
        "Você vai coletar de diferentes turmas de alunos seus interesses em atividades extra curriculares dentre futebol, vôlei, rugby, música, teatro, ações comunitárias. Informe o conjunto de atividades comuns a todas a turmas. Pode preencher o iterável turmas com valores arbitrários.\n"
      ]
    },
    {
      "cell_type": "code",
      "execution_count": null,
      "id": "880a9927",
      "metadata": {
        "colab": {
          "base_uri": "https://localhost:8080/"
        },
        "id": "880a9927",
        "outputId": "9e81180c-f9b6-4cd3-c836-98377fd841a4"
      },
      "outputs": [
        {
          "output_type": "stream",
          "name": "stdout",
          "text": [
            "{'rugby'}\n"
          ]
        }
      ],
      "source": [
        "turmas = [\n",
        "     {'ações comunitárias', 'futebol', 'música', 'rugby'},\n",
        "     {'ações comunitárias', 'música', 'rugby', 'teatro'},\n",
        "     {'música', 'rugby', 'teatro', 'vôlei'},\n",
        "     {'música', 'vôlei', 'rugby'},\n",
        "     {'ações comunitárias', 'futebol', 'rugby', 'teatro', 'vôlei'},\n",
        "     {'ações comunitárias', 'futebol', 'rugby'},\n",
        "     {'ações comunitárias', 'rugby', 'teatro', 'vôlei'},\n",
        "     {'ações comunitárias', 'rugby', 'teatro', 'vôlei'},\n",
        "     {'ações comunitárias', 'rugby', 'vôlei'}\n",
        "]\n",
        "\n",
        "\n",
        "# Encontrar o conjunto de atividades comuns a todas as turmas\n",
        "atividades_comuns = set(turmas[0])  # Começa com as atividades da primeira turma\n",
        "\n",
        "for turma in turmas[1:]:\n",
        "    atividades_comuns.intersection_update(turma)  # Atualiza com a interseção\n",
        "\n",
        "print(atividades_comuns)  # Imprime o conjunto de atividades comuns a todas as turmas\n"
      ]
    },
    {
      "cell_type": "markdown",
      "id": "021e2b1e",
      "metadata": {
        "id": "021e2b1e"
      },
      "source": [
        "### Q4.\n",
        "Considere duas listas que são duplicatas uma da outra, exceto por um elemento, exemplo:\n",
        "```\n",
        "A = [1, 4, 5, 7, 9]\n",
        "B = [4, 5, 7, 9]\n",
        "```\n",
        "\n",
        "Encontre e apresente o elemento diferente, informando também qual das listas está desfalcada. Para o exemplo acima, a saída esperada é\n",
        "```\n",
        "O elemento 1 está faltando na segunda lista\n",
        "```"
      ]
    },
    {
      "cell_type": "code",
      "execution_count": null,
      "id": "608761a4",
      "metadata": {
        "colab": {
          "base_uri": "https://localhost:8080/"
        },
        "id": "608761a4",
        "outputId": "97f45e92-20c1-4237-f28e-7c9b6a772de9"
      },
      "outputs": [
        {
          "output_type": "stream",
          "name": "stdout",
          "text": [
            "O elemento 1 está faltando na segunda lista\n"
          ]
        }
      ],
      "source": [
        "def encontrar_elemento_diferente(listaA, listaB):\n",
        "    # Converte as listas para sets\n",
        "    setA = set(listaA)\n",
        "    setB = set(listaB)\n",
        "\n",
        "    # Encontrar o elemento que está apenas em um dos sets\n",
        "    diferençaA = setA - setB\n",
        "    diferençaB = setB - setA\n",
        "\n",
        "    # Determinar qual lista está desfalcada\n",
        "    if diferençaA:\n",
        "        elemento_faltando = diferençaA.pop()\n",
        "        lista_desfalcada = \"segunda lista\"\n",
        "    else:\n",
        "        elemento_faltando = diferençaB.pop()\n",
        "        lista_desfalcada = \"primeira lista\"\n",
        "\n",
        "    # Imprimir o resultado\n",
        "    print(f\"O elemento {elemento_faltando} está faltando na {lista_desfalcada}\")\n",
        "\n",
        "# Exemplo de uso\n",
        "A = [1, 4, 5, 7, 9]\n",
        "B = [4, 5, 7, 9]\n",
        "encontrar_elemento_diferente(A, B)\n"
      ]
    },
    {
      "cell_type": "markdown",
      "id": "ddf180c1",
      "metadata": {
        "id": "ddf180c1"
      },
      "source": [
        "### Q5.\n",
        "\n",
        "Panagramas são frases que contém todas as letras do alfabeto pelo menos uma vez. Crie uma função ```checa_panagrama``` que recebe uma string e retorna ```True``` caso seja um panagrama ou ```False```caso contrário. Use seu conhecimento de sets para solucionar essa questão.\n",
        "\n",
        "Ex:\n",
        "```\n",
        "Entrada: \"The quick brown fox jumps over the lazy dog\"\n",
        "Saída: É um panagrama\n",
        "```\n",
        "\n",
        "```\n",
        "Entrada: \"Python é uma linguagem de programação\"\n",
        "Saída: Não é um panagrama\n",
        "```"
      ]
    },
    {
      "cell_type": "code",
      "execution_count": null,
      "id": "4e8b0390",
      "metadata": {
        "id": "4e8b0390",
        "colab": {
          "base_uri": "https://localhost:8080/"
        },
        "outputId": "426f8194-6161-407a-ea93-7a0015fb3cf7"
      },
      "outputs": [
        {
          "output_type": "stream",
          "name": "stdout",
          "text": [
            "É um panagrama\n",
            "Não é um panagrama\n"
          ]
        }
      ],
      "source": [
        "def checa_panagrama(frase):\n",
        "    # Converte a frase para minúsculas e remove caracteres não alfabéticos\n",
        "    frase = frase.lower()\n",
        "\n",
        "    # Conjunto com todas as letras do alfabeto\n",
        "    alfabeto = set(string.ascii_lowercase)\n",
        "\n",
        "    # Conjunto com todas as letras presentes na frase\n",
        "    letras_na_frase = set(c for c in frase if c in alfabeto)\n",
        "\n",
        "    # Verifica se todas as letras do alfabeto estão presentes na frase\n",
        "    return letras_na_frase == alfabeto\n",
        "\n",
        "# Exemplos de uso\n",
        "frase1 = \"The quick brown fox jumps over the lazy dog\"\n",
        "frase2 = \"Python é uma linguagem de programação\"\n",
        "\n",
        "print(\"É um panagrama\" if checa_panagrama(frase1) else \"Não é um panagrama\")\n",
        "print(\"É um panagrama\" if checa_panagrama(frase2) else \"Não é um panagrama\")\n"
      ]
    }
  ],
  "metadata": {
    "kernelspec": {
      "display_name": "Python 3 (ipykernel)",
      "language": "python",
      "name": "python3"
    },
    "language_info": {
      "codemirror_mode": {
        "name": "ipython",
        "version": 3
      },
      "file_extension": ".py",
      "mimetype": "text/x-python",
      "name": "python",
      "nbconvert_exporter": "python",
      "pygments_lexer": "ipython3",
      "version": "3.9.6"
    },
    "colab": {
      "provenance": []
    }
  },
  "nbformat": 4,
  "nbformat_minor": 5
}