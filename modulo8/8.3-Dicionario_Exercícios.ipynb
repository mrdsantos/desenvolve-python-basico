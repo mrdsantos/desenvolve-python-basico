{
  "cells": [
    {
      "cell_type": "markdown",
      "id": "0d5035b5",
      "metadata": {
        "id": "0d5035b5"
      },
      "source": [
        "# Dicionários\n",
        "\n",
        "## Aula 8.3"
      ]
    },
    {
      "cell_type": "markdown",
      "id": "0bdece85",
      "metadata": {
        "id": "0bdece85"
      },
      "source": [
        "### Q1.\n",
        "\n",
        "Escreva uma função em Python chamada ```contagem_caracteres``` que recebe uma string como parâmetro e retorna um dicionário onde as chaves são os caracteres presentes na string e os valores são a contagem de cada caractere.\n"
      ]
    },
    {
      "cell_type": "code",
      "execution_count": 2,
      "id": "09a9845d",
      "metadata": {
        "id": "09a9845d"
      },
      "outputs": [],
      "source": [
        "def contagem_caracteres(s):\n",
        "    # Criar um dicionário vazio para armazenar a contagem de caracteres\n",
        "    contagem = {}\n",
        "\n",
        "    # Iterar sobre cada caractere na string\n",
        "    for caractere in s:\n",
        "        # Se o caractere já estiver no dicionário, incrementar sua contagem\n",
        "        if caractere in contagem:\n",
        "            contagem[caractere] += 1\n",
        "        # Caso contrário, adicionar o caractere ao dicionário com contagem 1\n",
        "        else:\n",
        "            contagem[caractere] = 1\n",
        "\n",
        "    return contagem"
      ]
    },
    {
      "cell_type": "code",
      "execution_count": 3,
      "id": "0a258eba",
      "metadata": {
        "colab": {
          "base_uri": "https://localhost:8080/"
        },
        "id": "0a258eba",
        "outputId": "93bbd9f2-582b-42fd-abf7-3236f2fb9cad"
      },
      "outputs": [
        {
          "output_type": "stream",
          "name": "stdout",
          "text": [
            "{'p': 2, 'y': 1, 't': 1, 'h': 1, 'o': 2, 'n': 2, ' ': 1, 'r': 2, 'g': 2, 'a': 1, 'm': 2, 'i': 1}\n"
          ]
        }
      ],
      "source": [
        "# Exemplo de uso:\n",
        "frase = \"python programming\"\n",
        "resultado = contagem_caracteres(frase)\n",
        "print(resultado)"
      ]
    },
    {
      "cell_type": "markdown",
      "id": "649a5082",
      "metadata": {
        "id": "649a5082"
      },
      "source": [
        "### Q2.\n",
        "\n",
        "Baixe o arquivo contendo o roteiro do filme brasileiro \"Estômago\" e salve em seu computador com o nome \"estomago.txt\".\n",
        "\n",
        "https://aplauso.imprensaoficial.com.br/edicoes/12.0.813.502/12.0.813.502.txt\n",
        "\n",
        "- Escreva um script python que abre o arquivo de texto e cria um dicionário contando a quantidade de vezes que cada palavra aparece no texto.\n",
        "- Em seguida ordene o dicionário de forma decrescente pelos valores. Dessa maneira ele irá apresentar as palavras mais frequentes no início.\n",
        "- Apresente na tela o dicionário ordenado\n"
      ]
    },
    {
      "cell_type": "code",
      "execution_count": 4,
      "id": "47cb0573",
      "metadata": {
        "colab": {
          "base_uri": "https://localhost:8080/",
          "height": 332
        },
        "id": "47cb0573",
        "outputId": "8c82dd14-4449-4c79-c06b-83c61eff9ce7"
      },
      "outputs": [
        {
          "output_type": "error",
          "ename": "FileNotFoundError",
          "evalue": "[Errno 2] No such file or directory: 'estomago.txt'",
          "traceback": [
            "\u001b[0;31m---------------------------------------------------------------------------\u001b[0m",
            "\u001b[0;31mFileNotFoundError\u001b[0m                         Traceback (most recent call last)",
            "\u001b[0;32m<ipython-input-4-2b264b791b41>\u001b[0m in \u001b[0;36m<cell line: 28>\u001b[0;34m()\u001b[0m\n\u001b[1;32m     26\u001b[0m \u001b[0;34m\u001b[0m\u001b[0m\n\u001b[1;32m     27\u001b[0m \u001b[0;31m# Contar palavras e obter o dicionário ordenado\u001b[0m\u001b[0;34m\u001b[0m\u001b[0;34m\u001b[0m\u001b[0m\n\u001b[0;32m---> 28\u001b[0;31m \u001b[0mdicionario_ordenado\u001b[0m \u001b[0;34m=\u001b[0m \u001b[0mcontar_palavras\u001b[0m\u001b[0;34m(\u001b[0m\u001b[0marquivo\u001b[0m\u001b[0;34m)\u001b[0m\u001b[0;34m\u001b[0m\u001b[0;34m\u001b[0m\u001b[0m\n\u001b[0m\u001b[1;32m     29\u001b[0m \u001b[0;34m\u001b[0m\u001b[0m\n\u001b[1;32m     30\u001b[0m \u001b[0;31m# Imprimir o dicionário ordenado\u001b[0m\u001b[0;34m\u001b[0m\u001b[0;34m\u001b[0m\u001b[0m\n",
            "\u001b[0;32m<ipython-input-4-2b264b791b41>\u001b[0m in \u001b[0;36mcontar_palavras\u001b[0;34m(arquivo)\u001b[0m\n\u001b[1;32m      5\u001b[0m \u001b[0;32mdef\u001b[0m \u001b[0mcontar_palavras\u001b[0m\u001b[0;34m(\u001b[0m\u001b[0marquivo\u001b[0m\u001b[0;34m)\u001b[0m\u001b[0;34m:\u001b[0m\u001b[0;34m\u001b[0m\u001b[0;34m\u001b[0m\u001b[0m\n\u001b[1;32m      6\u001b[0m     \u001b[0;31m# Abrir e ler o conteúdo do arquivo\u001b[0m\u001b[0;34m\u001b[0m\u001b[0;34m\u001b[0m\u001b[0m\n\u001b[0;32m----> 7\u001b[0;31m     \u001b[0;32mwith\u001b[0m \u001b[0mopen\u001b[0m\u001b[0;34m(\u001b[0m\u001b[0marquivo\u001b[0m\u001b[0;34m,\u001b[0m \u001b[0;34m\"r\"\u001b[0m\u001b[0;34m,\u001b[0m \u001b[0mencoding\u001b[0m\u001b[0;34m=\u001b[0m\u001b[0;34m\"ISO-8859-1\"\u001b[0m\u001b[0;34m)\u001b[0m \u001b[0;32mas\u001b[0m \u001b[0mfile\u001b[0m\u001b[0;34m:\u001b[0m\u001b[0;34m\u001b[0m\u001b[0;34m\u001b[0m\u001b[0m\n\u001b[0m\u001b[1;32m      8\u001b[0m         \u001b[0mtexto\u001b[0m \u001b[0;34m=\u001b[0m \u001b[0mfile\u001b[0m\u001b[0;34m.\u001b[0m\u001b[0mread\u001b[0m\u001b[0;34m(\u001b[0m\u001b[0;34m)\u001b[0m\u001b[0;34m\u001b[0m\u001b[0;34m\u001b[0m\u001b[0m\n\u001b[1;32m      9\u001b[0m \u001b[0;34m\u001b[0m\u001b[0m\n",
            "\u001b[0;31mFileNotFoundError\u001b[0m: [Errno 2] No such file or directory: 'estomago.txt'"
          ]
        }
      ],
      "source": [
        "from collections import Counter\n",
        "import re\n",
        "\n",
        "\n",
        "def contar_palavras(arquivo):\n",
        "    # Abrir e ler o conteúdo do arquivo\n",
        "    with open(arquivo, \"r\", encoding=\"ISO-8859-1\") as file:\n",
        "        texto = file.read()\n",
        "\n",
        "    # Utilizar expressão regular para encontrar todas as palavras\n",
        "    palavras = re.findall(r\"\\b\\w+\\b\", texto.lower())\n",
        "\n",
        "    # Contar a frequência das palavras\n",
        "    contagem_palavras = Counter(palavras)\n",
        "\n",
        "    # Ordenar o dicionário por valores de forma decrescente\n",
        "    dicionario_ordenado = dict(\n",
        "        sorted(contagem_palavras.items(), key=lambda item: item[1], reverse=True)\n",
        "    )\n",
        "\n",
        "    return dicionario_ordenado\n",
        "\n",
        "\n",
        "# Nome do arquivo\n",
        "arquivo = \"estomago.txt\"\n",
        "\n",
        "# Contar palavras e obter o dicionário ordenado\n",
        "dicionario_ordenado = contar_palavras(arquivo)\n",
        "\n",
        "# Imprimir o dicionário ordenado\n",
        "print(dicionario_ordenado)\n"
      ]
    },
    {
      "cell_type": "markdown",
      "id": "bb62d219",
      "metadata": {
        "id": "bb62d219"
      },
      "source": [
        "### Q3.\n",
        "\n",
        "Crie uma função chamada ```mesclar_dicionarios``` que recebe dois dicionários como parâmetros e retorna um novo dicionário contendo a fusão dos dois. Se houver chaves comuns, o maior valor deve prevalecer."
      ]
    },
    {
      "cell_type": "code",
      "execution_count": 5,
      "id": "f4363612",
      "metadata": {
        "id": "f4363612"
      },
      "outputs": [],
      "source": [
        "def mesclar_dicionarios(dicionario1, dicionario2):\n",
        "    # Criar um novo dicionário a partir do primeiro dicionário\n",
        "    resultado = dict(dicionario1)\n",
        "\n",
        "    # Atualizar o dicionário com o segundo dicionário\n",
        "    for chave, valor in dicionario2.items():\n",
        "        if chave in resultado:\n",
        "            resultado[chave] = max(resultado[chave], valor)\n",
        "        else:\n",
        "            resultado[chave] = valor\n",
        "\n",
        "    return resultado"
      ]
    },
    {
      "cell_type": "code",
      "execution_count": 6,
      "id": "add41556",
      "metadata": {
        "colab": {
          "base_uri": "https://localhost:8080/"
        },
        "id": "add41556",
        "outputId": "d67d0d99-5137-45a2-8c35-bdfacc20c830"
      },
      "outputs": [
        {
          "output_type": "stream",
          "name": "stdout",
          "text": [
            "{'a': 1, 'b': 4, 'c': 3, 'd': 5}\n"
          ]
        }
      ],
      "source": [
        "# Exemplo de uso:\n",
        "dicionario1 = {'a': 1, 'b': 2, 'c': 3}\n",
        "dicionario2 = {'b': 4, 'd': 5}\n",
        "resultado = mesclar_dicionarios(dicionario1, dicionario2)\n",
        "print(resultado)\n",
        "# Saída esperada: {'a': 1, 'b': 4, 'c': 3, 'd': 5}"
      ]
    },
    {
      "cell_type": "markdown",
      "id": "8710b1a7",
      "metadata": {
        "id": "8710b1a7"
      },
      "source": [
        "### Q4.\n",
        "\n",
        "Desenvolva uma função em Python chamada ```filtrar_dicionario``` que recebe um dicionário e uma lista de chaves como parâmetros e retorna um novo dicionário contendo apenas as chaves que estão presentes na lista."
      ]
    },
    {
      "cell_type": "code",
      "execution_count": 7,
      "id": "0b7ee921",
      "metadata": {
        "id": "0b7ee921"
      },
      "outputs": [],
      "source": [
        "def filtrar_dicionario(dicionario, chaves):\n",
        "    # Criar um novo dicionário filtrado\n",
        "    resultado = {chave: dicionario[chave] for chave in chaves if chave in dicionario}\n",
        "    return resultado"
      ]
    },
    {
      "cell_type": "code",
      "execution_count": 8,
      "id": "ebc131f6",
      "metadata": {
        "colab": {
          "base_uri": "https://localhost:8080/"
        },
        "id": "ebc131f6",
        "outputId": "56974a3a-6590-4dde-d056-8768dca54a53"
      },
      "outputs": [
        {
          "output_type": "stream",
          "name": "stdout",
          "text": [
            "{'a': 1, 'c': 3, 'e': 5}\n"
          ]
        }
      ],
      "source": [
        "# Exemplo de uso:\n",
        "dados = {'a': 1, 'b': 2, 'c': 3, 'd': 4, 'e': 5}\n",
        "chaves_filtradas = ['a', 'c', 'e']\n",
        "resultado = filtrar_dicionario(dados, chaves_filtradas)\n",
        "print(resultado)\n",
        "# Saída esperada: {'a': 1, 'c': 3, 'e': 5}"
      ]
    },
    {
      "cell_type": "markdown",
      "id": "3203c51e",
      "metadata": {
        "id": "3203c51e"
      },
      "source": [
        "### Q5.\n",
        "\n",
        "Você está responsável por analisar os resultados de uma votação. Cada voto é representado por um dicionário com o nome do candidato e a quantidade de votos que recebeu em uma determinada sessão eleitoral. Escreva uma função chamada ```resultado_votacao``` que recebe uma lista de dicionários de votos e retorna um dicionário onde as chaves são os nomes dos candidatos, e os valores são tuplas ```(total, percentual)``` com o total de votos recebidos por cada candidato e o percentual em relação à soma total de votos em todos os candidatos."
      ]
    },
    {
      "cell_type": "code",
      "execution_count": 11,
      "id": "2c856eee",
      "metadata": {
        "id": "2c856eee"
      },
      "outputs": [],
      "source": [
        "def resultado_votacao(votos):\n",
        "    # Dicionário para armazenar o total de votos por candidato\n",
        "    totais_votos = {}\n",
        "\n",
        "    # Contabilizar o total de votos para cada candidato\n",
        "    for sessao in votos:\n",
        "        for candidato, qtd_votos in sessao.items():\n",
        "            if candidato in totais_votos:\n",
        "                totais_votos[candidato] += qtd_votos\n",
        "            else:\n",
        "                totais_votos[candidato] = qtd_votos\n",
        "\n",
        "    # Calcular o total geral de votos\n",
        "    total_geral = sum(totais_votos.values())\n",
        "\n",
        "    # Criar o dicionário final com total e percentual\n",
        "    resultado = {\n",
        "        candidato: (total_votos, round((total_votos / total_geral) * 100, 2))\n",
        "        for candidato, total_votos in totais_votos.items()\n",
        "    }\n",
        "\n",
        "    return resultado"
      ]
    },
    {
      "cell_type": "code",
      "execution_count": 12,
      "id": "ff2044de",
      "metadata": {
        "colab": {
          "base_uri": "https://localhost:8080/"
        },
        "id": "ff2044de",
        "outputId": "adba97f6-3e4c-4b09-9eb9-b5764e1adea7"
      },
      "outputs": [
        {
          "output_type": "stream",
          "name": "stdout",
          "text": [
            "{'candidato_A': (360, 40.31), 'candidato_B': (258, 28.89), 'candidato_C': (275, 30.8)}\n"
          ]
        }
      ],
      "source": [
        "# Exemplo de uso:\n",
        "votos = [\n",
        "    {'candidato_A': 120, 'candidato_B': 85, 'candidato_C': 90},\n",
        "    {'candidato_A': 110, 'candidato_B': 95, 'candidato_C': 80},\n",
        "    {'candidato_A': 130, 'candidato_B': 78, 'candidato_C': 105},\n",
        "]\n",
        "resultado = resultado_votacao(votos)\n",
        "print(resultado)  # Saída esperada: {'candidato_A': (360, 40.31), 'candidato_B': (258, 28.89),\n",
        "                                ###  'candidato_C': (275, 30.79)}"
      ]
    }
  ],
  "metadata": {
    "kernelspec": {
      "display_name": "Python 3 (ipykernel)",
      "language": "python",
      "name": "python3"
    },
    "language_info": {
      "codemirror_mode": {
        "name": "ipython",
        "version": 3
      },
      "file_extension": ".py",
      "mimetype": "text/x-python",
      "name": "python",
      "nbconvert_exporter": "python",
      "pygments_lexer": "ipython3",
      "version": "3.9.6"
    },
    "colab": {
      "provenance": [],
      "collapsed_sections": [
        "649a5082"
      ]
    }
  },
  "nbformat": 4,
  "nbformat_minor": 5
}