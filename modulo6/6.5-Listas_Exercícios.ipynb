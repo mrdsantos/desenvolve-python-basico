{
  "cells": [
    {
      "cell_type": "markdown",
      "id": "0d5035b5",
      "metadata": {
        "id": "0d5035b5"
      },
      "source": [
        "# Listas\n",
        "\n",
        "## Aulas 6.1 a 6.5"
      ]
    },
    {
      "cell_type": "markdown",
      "id": "0bdece85",
      "metadata": {
        "id": "0bdece85"
      },
      "source": [
        "### Q1.\n",
        "\n",
        "Usando a função embutida ```map``` e criando uma função ```lambda```, transforme uma lista com os raios de múltiplas circunferências em uma nova lista com as respectivas áreas. O cálculo de cada área é dado por: ```pi*(raio**2)```\n",
        "- Use a constante pi da biblioteca math\n",
        "- Arredonde o resultado para 2 casas decimais\n"
      ]
    },
    {
      "cell_type": "code",
      "execution_count": null,
      "id": "0a258eba",
      "metadata": {
        "colab": {
          "base_uri": "https://localhost:8080/"
        },
        "id": "0a258eba",
        "outputId": "45e4dfe3-394e-4590-982c-73a4ecbca05d"
      },
      "outputs": [
        {
          "output_type": "stream",
          "name": "stdout",
          "text": [
            "[7.07, 2.01, 16.62, 78.54]\n"
          ]
        }
      ],
      "source": [
        "import math\n",
        "\n",
        "# Lista com os raios de várias circunferências\n",
        "raios = [1.5, 0.8, 2.3, 5.0]\n",
        "\n",
        "# Função lambda para calcular a área de uma circunferência\n",
        "calcularArea = lambda raio: round(math.pi * (raio ** 2), 2)\n",
        "\n",
        "# Utilizando map para aplicar a função lambda a todos os elementos da lista raios\n",
        "areas = list(map(calcularArea, raios))\n",
        "\n",
        "# Exibindo a lista de áreas calculadas\n",
        "print(areas)\n"
      ]
    },
    {
      "cell_type": "markdown",
      "id": "649a5082",
      "metadata": {
        "id": "649a5082"
      },
      "source": [
        "### Q2.\n",
        "\n",
        "Crie uma função customizada e aplique a função embutida ```filter``` para operar em uma lista de listas contendo os lados de múltiplos triângulos. Construa uma nova lista contendo apenas os triângulos equiláteros, ou seja, com os três lados iguais.\n"
      ]
    },
    {
      "cell_type": "code",
      "execution_count": null,
      "id": "47cb0573",
      "metadata": {
        "colab": {
          "base_uri": "https://localhost:8080/"
        },
        "id": "47cb0573",
        "outputId": "e0144456-0902-414d-ab7a-e3650d87f122"
      },
      "outputs": [
        {
          "output_type": "stream",
          "name": "stdout",
          "text": [
            "[[2, 2, 2], [4, 4, 4]]\n"
          ]
        }
      ],
      "source": [
        "# Função customizada para verificar se um triângulo é equilátero\n",
        "def testa_equilatero(lados):\n",
        "    # Verifica se todos os lados são iguais\n",
        "    return lados[0] == lados[1] == lados[2]\n",
        "\n",
        "# Lista de triângulos representados pelos lados\n",
        "triangulos = [[2, 2, 2], [3, 4, 5], [3, 2, 2], [4, 4, 4]]\n",
        "\n",
        "# Usando filter para selecionar apenas os triângulos equiláteros\n",
        "triangulosEquilateros = list(filter(testa_equilatero, triangulos))\n",
        "\n",
        "# Exibindo a lista dos triângulos equiláteros\n",
        "print(triangulosEquilateros)\n"
      ]
    },
    {
      "cell_type": "markdown",
      "id": "bb62d219",
      "metadata": {
        "id": "bb62d219"
      },
      "source": [
        "### Q3.\n",
        "Crie uma função chamada ```ordena_por_comprimento``` que aceite uma lista de strings e a ordene com base no comprimento das strings, do menor para o maior. Utilize a função ```sorte``` e uma expressão ```lambda```."
      ]
    },
    {
      "cell_type": "code",
      "execution_count": null,
      "id": "add41556",
      "metadata": {
        "colab": {
          "base_uri": "https://localhost:8080/"
        },
        "id": "add41556",
        "outputId": "9d383287-7fd5-4e5b-9088-6f9cd78c2c67"
      },
      "outputs": [
        {
          "output_type": "stream",
          "name": "stdout",
          "text": [
            "['Sol', 'Joao', 'Jose', 'Luna', 'Enzo', 'Maria', 'Bento', 'Gabriela', 'Fernanda']\n"
          ]
        }
      ],
      "source": [
        "def ordena_por_comprimento(lista):\n",
        "    # Ordena a lista com base no comprimento das strings\n",
        "    return sorted(lista, key=lambda x: len(x))\n",
        "\n",
        "# Lista de nomes para ser ordenada\n",
        "nomes = [\"Joao\", \"Maria\", \"Jose\", \"Gabriela\", \"Sol\", \"Luna\", \"Bento\", \"Enzo\", \"Fernanda\"]\n",
        "\n",
        "# Aplicando a função à lista e imprimindo o resultado\n",
        "nomes_ordenados = ordena_por_comprimento(nomes)\n",
        "print(nomes_ordenados)\n"
      ]
    },
    {
      "cell_type": "markdown",
      "id": "8710b1a7",
      "metadata": {
        "id": "8710b1a7"
      },
      "source": [
        "### Q4.\n",
        "\n",
        "Crie uma lista de listas (uma matriz de 2 dimensões) de tamanho $n \\times n$, com $n$ dado pelo usuário. Cada elemento da matriz deve ser o produto dos índices da linha pela coluna.\n",
        "\n",
        "Exemplo:\n",
        "```\n",
        "Digite n: 4\n",
        "Matriz:\n",
        "[[0, 0, 0, 0],\n",
        " [0, 1, 2, 3],\n",
        " [0, 2, 4, 6],\n",
        " [0, 3, 6, 9]]\n",
        "```"
      ]
    },
    {
      "cell_type": "code",
      "execution_count": null,
      "id": "0b7ee921",
      "metadata": {
        "colab": {
          "base_uri": "https://localhost:8080/"
        },
        "id": "0b7ee921",
        "outputId": "23266fb6-513d-4bd8-f2e6-d5a576872631"
      },
      "outputs": [
        {
          "output_type": "stream",
          "name": "stdout",
          "text": [
            "Digite n: 4\n",
            "Matriz:\n",
            "[0, 0, 0, 0]\n",
            "[0, 1, 2, 3]\n",
            "[0, 2, 4, 6]\n",
            "[0, 3, 6, 9]\n"
          ]
        }
      ],
      "source": [
        "# Solicita ao usuário que digite o tamanho da matriz\n",
        "n = int(input(\"Digite n: \"))\n",
        "\n",
        "# Cria a matriz n×n com o produto dos índices da linha e da coluna\n",
        "matriz = [[i * j for j in range(n)] for i in range(n)]\n",
        "\n",
        "# Exibe a matriz\n",
        "print(\"Matriz:\")\n",
        "for linha in matriz:\n",
        "    print(linha)\n"
      ]
    },
    {
      "cell_type": "markdown",
      "id": "f41781df",
      "metadata": {
        "id": "f41781df"
      },
      "source": [
        "### Q5.\n",
        "\n",
        "Dada uma lista de números inteiros, implemente uma função em Python chamada ```pares_unicos``` que encontre e retorne todos os pares únicos de elementos na lista cuja soma seja igual a um determinado valor. Considere que a ordem dos pares não é relevante."
      ]
    },
    {
      "cell_type": "code",
      "execution_count": null,
      "id": "7a76f765",
      "metadata": {
        "colab": {
          "base_uri": "https://localhost:8080/"
        },
        "id": "7a76f765",
        "outputId": "f6fb22ad-c801-4391-87fc-a89add288fb3"
      },
      "outputs": [
        {
          "output_type": "stream",
          "name": "stdout",
          "text": [
            "[]\n"
          ]
        }
      ],
      "source": [
        "def pares_unicos(numeros, soma_objetivo):\n",
        "    # Cria um conjunto para armazenar os números já vistos\n",
        "    vistos = set()\n",
        "\n",
        "    # Encontra pares únicos com a soma desejada\n",
        "    pares = [\n",
        "        (complemento, numero)\n",
        "        for numero in numeros\n",
        "        if (complemento := soma_objetivo - numero) in vistos\n",
        "        and complemento < numero  # Garante que cada par é único e não duplicado\n",
        "        for visto in [vistos.add(numero)]  # Adiciona o número atual ao conjunto de vistos\n",
        "    ]\n",
        "\n",
        "    return pares\n",
        "\n",
        "# Exemplo de uso:\n",
        "nums = [3, 4, 5, 6, 7]\n",
        "soma = 10\n",
        "resultado = pares_unicos(nums, soma)\n",
        "print(resultado)  # Saída esperada: [(3, 7), (4, 6)]\n"
      ]
    },
    {
      "cell_type": "markdown",
      "id": "87e44893",
      "metadata": {
        "id": "87e44893"
      },
      "source": [
        "### Q5.\n",
        "\n",
        "Escreva um programa para encontrar a diferença entre duas listas, incluindo elementos duplicados.\n",
        "\n",
        "Ex:\n",
        "```\n",
        "Listas originais:\n",
        "[1, 1, 2, 3, 3, 4, 4, 5, 6, 7]\n",
        "[1, 1, 2, 4, 5, 6]\n",
        "Diferença entre as listas:\n",
        "[3, 3, 4, 7]\n",
        "```"
      ]
    },
    {
      "cell_type": "code",
      "execution_count": null,
      "id": "7edc027c",
      "metadata": {
        "colab": {
          "base_uri": "https://localhost:8080/"
        },
        "id": "7edc027c",
        "outputId": "26c45d77-e430-4704-cb22-7585617c59b2"
      },
      "outputs": [
        {
          "output_type": "stream",
          "name": "stdout",
          "text": [
            "Diferença entre as listas: [3, 3, 4, 7]\n"
          ]
        }
      ],
      "source": [
        "from collections import Counter\n",
        "\n",
        "def diferença_listas(lista1, lista2):\n",
        "    # Conta as ocorrências de cada elemento em ambas as listas\n",
        "    contagem1 = Counter(lista1)\n",
        "    contagem2 = Counter(lista2)\n",
        "\n",
        "    # Calcula a diferença, incluindo elementos duplicados\n",
        "    diferença = []\n",
        "    for elemento in contagem1:\n",
        "        if contagem1[elemento] > contagem2[elemento]:\n",
        "            diferença.extend([elemento] * (contagem1[elemento] - contagem2[elemento]))\n",
        "\n",
        "    return diferença\n",
        "\n",
        "# Listas originais\n",
        "lista1 = [1, 1, 2, 3, 3, 4, 4, 5, 6, 7]\n",
        "lista2 = [1, 1, 2, 4, 5, 6]\n",
        "\n",
        "# Encontrando a diferença entre as listas\n",
        "resultado = diferença_listas(lista1, lista2)\n",
        "print(\"Diferença entre as listas:\", resultado)\n"
      ]
    },
    {
      "cell_type": "markdown",
      "id": "f4c4236d",
      "metadata": {
        "id": "f4c4236d"
      },
      "source": [
        "### Q6.\n",
        "\n",
        "Dada uma lista aleatória, escreva um programa que separa os valores em listas menores de acordo com o tamanho solicitado. Caso não seja possível repartir igualmente a lista original, a última sublista deve conter os elementos remanescentes, como indicado no exemplo a seguir.\n",
        "\n",
        "Note que seu programa deve continuar executando em um laço infinito até que o usuário informe o tamanho 0 na entrada solicitada.\n",
        "\n",
        "```\n",
        "Lista original:\n",
        "[12, 45, 23, 67, 78, 90, 45, 32, 100, 76, 38, 62, 73, 29, 83]\n",
        "\n",
        "Tamanho para divisão: 3\n",
        "Subslistas:\n",
        "[[12, 45, 23], [67, 78, 90], [45, 32, 100], [76, 38, 62], [73, 29, 83]]\n",
        "\n",
        "Tamanho para divisão: 4\n",
        "Subslistas: [[12, 45, 23, 67], [78, 90, 45, 32], [100, 76, 38, 62], [73, 29, 83]]\n",
        "\n",
        "Tamanho para divisão: 0\n",
        "```"
      ]
    },
    {
      "cell_type": "code",
      "execution_count": null,
      "id": "792563de",
      "metadata": {
        "colab": {
          "base_uri": "https://localhost:8080/"
        },
        "id": "792563de",
        "outputId": "dad774b1-9a61-42eb-dd49-972df87025c2"
      },
      "outputs": [
        {
          "name": "stdout",
          "output_type": "stream",
          "text": [
            "Lista original: (0 para sair)2 [41, 96, 36, 40, 25, 93, 20, 26, 43, 30, 6, 4, 59, 10, 68, 91, 15, 12, 27, 41]\n",
            "Tamanho para divisão: 5\n",
            "Sublistas: [[41, 96, 36, 40, 25], [93, 20, 26, 43, 30], [6, 4, 59, 10, 68], [91, 15, 12, 27, 41]]\n",
            "Lista original: (0 para sair)2 [41, 96, 36, 40, 25, 93, 20, 26, 43, 30, 6, 4, 59, 10, 68, 91, 15, 12, 27, 41]\n",
            "Tamanho para divisão: 10\n",
            "Sublistas: [[41, 96, 36, 40, 25, 93, 20, 26, 43, 30], [6, 4, 59, 10, 68, 91, 15, 12, 27, 41]]\n",
            "Lista original: (0 para sair)2 [41, 96, 36, 40, 25, 93, 20, 26, 43, 30, 6, 4, 59, 10, 68, 91, 15, 12, 27, 41]\n",
            "Tamanho para divisão: 2\n",
            "Sublistas: [[41, 96], [36, 40], [25, 93], [20, 26], [43, 30], [6, 4], [59, 10], [68, 91], [15, 12], [27, 41]]\n",
            "Lista original: (0 para sair)2 [41, 96, 36, 40, 25, 93, 20, 26, 43, 30, 6, 4, 59, 10, 68, 91, 15, 12, 27, 41]\n",
            "Tamanho para divisão: 0\n"
          ]
        }
      ],
      "source": [
        "import random\n",
        "\n",
        "# Gera uma lista aleatória com 20 números inteiros entre 1 e 100\n",
        "lista = [random.randint(1, 100) for i in range(20)]\n",
        "\n",
        "def dividir_lista(lista, tamanho_sublista):\n",
        "    \"\"\"Divide a lista em sublistas de tamanho especificado.\"\"\"\n",
        "    return [lista[i:i + tamanho_sublista] for i in range(0, len(lista), tamanho_sublista)]\n",
        "\n",
        "while True:\n",
        "    # Exibe a lista original\n",
        "    print(\"Lista original: (0 para sair)2\", lista)\n",
        "\n",
        "    # Solicita ao usuário o tamanho das sublistas\n",
        "    tamanho = int(input(\"Tamanho para divisão: \"))\n",
        "\n",
        "    # Se o tamanho solicitado for 0, encerra o programa\n",
        "    if tamanho == 0:\n",
        "        break\n",
        "\n",
        "    # Divide a lista e exibe as sublistas\n",
        "    sublistas = dividir_lista(lista, tamanho)\n",
        "    print(\"Sublistas:\", sublistas)\n"
      ]
    },
    {
      "cell_type": "markdown",
      "id": "c65be32f",
      "metadata": {
        "id": "c65be32f"
      },
      "source": [
        "### Q7.\n",
        "\n",
        "Você está desenvolvendo um programa para determinar o vencedor de um jogo da velha. Escreva uma função ```avalia_tabuleiro()``` que recebe uma lista representando o estado atual do tabuleiro e determina se há um vencedor.\n",
        "\n",
        "A lista terá 3 sublistas, cada uma representando uma linha do tabuleiro. Cada elemento das sublistas pode ser 'X', 'O' ou vazio (' ').\n",
        "\n",
        "O programa deve imprimir o vencedor ('X', 'O'), se houver um, ou \"Empate\" se não houver vencedor. Um vencedor é determinado se houver três 'X' ou três 'O' em linha (horizontal, vertical ou diagonal).\n",
        "\n",
        "Exemplo:\n",
        "```python\n",
        "tabuleiro = [\n",
        "    ['X', 'O', 'X'],\n",
        "    [' ', 'X', 'O'],\n",
        "    ['O', ' ', 'O']\n",
        "]\n",
        "```\n",
        "O resultado seria \"Empate\", pois não há um vencedor no exemplo fornecido.\n",
        "\n",
        "Exemplo 2:\n",
        "```python\n",
        "tabuleiro = [\n",
        "    ['O', 'X', 'O'],\n",
        "    ['X', 'O', 'X'],\n",
        "    ['X', ' ', 'O']\n",
        "]\n",
        "```\n",
        "O resultado seria \"O\", pois 'O' venceu na diagonal central."
      ]
    },
    {
      "cell_type": "code",
      "execution_count": 15,
      "id": "720ca24d",
      "metadata": {
        "colab": {
          "base_uri": "https://localhost:8080/"
        },
        "id": "720ca24d",
        "outputId": "7bf3fbca-9977-4a06-a13d-9a7349d4c28f"
      },
      "outputs": [
        {
          "output_type": "stream",
          "name": "stdout",
          "text": [
            "X\n",
            "X\n",
            "Empate\n",
            "O\n",
            "Empate\n"
          ]
        }
      ],
      "source": [
        "def avalia_tabuleiro(tabuleiro):\n",
        "    def verifica_vencedor(line):\n",
        "        \"\"\"Verifica se há um vencedor na linha dada.\"\"\"\n",
        "        if line[0] == line[1] == line[2] and line[0] != ' ':\n",
        "            return line[0]\n",
        "        return None\n",
        "\n",
        "    # Verificar linhas\n",
        "    for linha in tabuleiro:\n",
        "        vencedor = verifica_vencedor(linha)\n",
        "        if vencedor:\n",
        "            return vencedor\n",
        "\n",
        "    # Verificar colunas\n",
        "    for col in range(3):\n",
        "        coluna = [tabuleiro[0][col], tabuleiro[1][col], tabuleiro[2][col]]\n",
        "        vencedor = verifica_vencedor(coluna)\n",
        "        if vencedor:\n",
        "            return vencedor\n",
        "\n",
        "    # Verificar diagonais\n",
        "    diagonal1 = [tabuleiro[0][0], tabuleiro[1][1], tabuleiro[2][2]]\n",
        "    diagonal2 = [tabuleiro[0][2], tabuleiro[1][1], tabuleiro[2][0]]\n",
        "\n",
        "    vencedor = verifica_vencedor(diagonal1)\n",
        "    if vencedor:\n",
        "        return vencedor\n",
        "\n",
        "    vencedor = verifica_vencedor(diagonal2)\n",
        "    if vencedor:\n",
        "        return vencedor\n",
        "\n",
        "    # Se não houver vencedor, verificar se há espaço vazio\n",
        "    for linha in tabuleiro:\n",
        "        if ' ' in linha:\n",
        "            return \"Empate\"  # Há espaços vazios e não há vencedor ainda\n",
        "\n",
        "    # Se não há espaço vazio e não há vencedor, é um empate\n",
        "    return \"Empate\"\n",
        "\n",
        "# Testando a função com os tabuleiros fornecidos\n",
        "\n",
        "tabuleiro1 = [\n",
        "    ['X', 'O', 'X'],\n",
        "    [' ', 'X', 'O'],\n",
        "    ['O', ' ', 'X']\n",
        "]\n",
        "\n",
        "tabuleiro2 = [\n",
        "    ['X', 'O', 'O'],\n",
        "    ['X', 'X', 'O'],\n",
        "    ['X', 'O', 'X']\n",
        "]\n",
        "\n",
        "tabuleiro3 = [\n",
        "    [' ', ' ', ' '],\n",
        "    ['X', ' ', 'O'],\n",
        "    ['O', 'X', 'X']\n",
        "]\n",
        "\n",
        "tabuleiro4 = [\n",
        "    ['O', 'O', 'O'],\n",
        "    ['X', ' ', 'X'],\n",
        "    ['O', 'X', 'X']\n",
        "]\n",
        "\n",
        "tabuleiro5 = [\n",
        "    ['X', 'X', 'O'],\n",
        "    ['X', ' ', 'O'],\n",
        "    ['O', 'O', 'X']\n",
        "]\n",
        "\n",
        "print(avalia_tabuleiro(tabuleiro1))\n",
        "print(avalia_tabuleiro(tabuleiro2))\n",
        "print(avalia_tabuleiro(tabuleiro3))\n",
        "print(avalia_tabuleiro(tabuleiro4))\n",
        "print(avalia_tabuleiro(tabuleiro5))\n"
      ]
    }
  ],
  "metadata": {
    "kernelspec": {
      "display_name": "Python 3 (ipykernel)",
      "language": "python",
      "name": "python3"
    },
    "language_info": {
      "codemirror_mode": {
        "name": "ipython",
        "version": 3
      },
      "file_extension": ".py",
      "mimetype": "text/x-python",
      "name": "python",
      "nbconvert_exporter": "python",
      "pygments_lexer": "ipython3",
      "version": "3.9.6"
    },
    "colab": {
      "provenance": []
    }
  },
  "nbformat": 4,
  "nbformat_minor": 5
}