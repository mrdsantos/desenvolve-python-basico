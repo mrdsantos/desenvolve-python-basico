{
  "metadata": {
    "kernelspec": {
      "name": "python",
      "display_name": "Python (Pyodide)",
      "language": "python"
    },
    "language_info": {
      "codemirror_mode": {
        "name": "python",
        "version": 3
      },
      "file_extension": ".py",
      "mimetype": "text/x-python",
      "name": "python",
      "nbconvert_exporter": "python",
      "pygments_lexer": "ipython3",
      "version": "3.8"
    },
    "colab": {
      "provenance": []
    }
  },
  "nbformat_minor": 5,
  "nbformat": 4,
  "cells": [
    {
      "id": "cbdff5a5",
      "cell_type": "markdown",
      "source": [
        "# Módulo 5 - Funções\n",
        "\n",
        "## Aulas 5.2 - Funções Customizadas e 5.4 Funções ```lambda```"
      ],
      "metadata": {
        "id": "cbdff5a5"
      }
    },
    {
      "id": "28a3fee2",
      "cell_type": "markdown",
      "source": [
        "### Q1.\n",
        "\n",
        "- Sabendo que o código a seguir calcula o fatorial de n, escreva uma função chamada ```fatorial()``` que recebe um inteiro ```n``` como parâmetro e retorna o resultado do fatorial de ```n```.\n",
        "- No programa principal, peça ao usuário o valor de ```n```, chame a sua função e imprima o retorno.\n",
        "\n",
        "```python\n",
        "fat = 1\n",
        "for i in range(1, n+1):\n",
        "    fat *= i\n",
        "```"
      ],
      "metadata": {
        "id": "28a3fee2"
      }
    },
    {
      "id": "d126b3a5",
      "cell_type": "code",
      "source": [
        "def fatorial(n):\n",
        "    fat = 1\n",
        "    for i in range(1, n + 1):\n",
        "        fat *= i\n",
        "    return fat\n"
      ],
      "metadata": {
        "trusted": true,
        "id": "d126b3a5"
      },
      "outputs": [],
      "execution_count": null
    },
    {
      "id": "6e4fe64e",
      "cell_type": "code",
      "source": [
        "n = int(input(\"Digite um número para calcular o fatorial: \"))\n",
        "resultado = fatorial(n)\n",
        "print(f\"O fatorial de {n} é {resultado}.\")"
      ],
      "metadata": {
        "trusted": true,
        "colab": {
          "base_uri": "https://localhost:8080/"
        },
        "id": "6e4fe64e",
        "outputId": "474d4bc8-f02c-4921-81cf-ced62f8fbcd3"
      },
      "outputs": [
        {
          "output_type": "stream",
          "name": "stdout",
          "text": [
            "Digite um número para calcular o fatorial: 5\n",
            "O fatorial de 5 é 120.\n"
          ]
        }
      ],
      "execution_count": null
    },
    {
      "id": "c0a1f599",
      "cell_type": "markdown",
      "source": [
        "### Q2.\n",
        "\n",
        "- Escreva uma função em Python chamada ```soma_quadrados``` que recebe dois números como parâmetros e retorna a soma dos seus quadrados.\n",
        "- No programa principal solicite ao usuário que insira dois números e utilize a função para exibir a soma dos quadrados."
      ],
      "metadata": {
        "id": "c0a1f599"
      }
    },
    {
      "id": "6dbddaad",
      "cell_type": "code",
      "source": [
        "def soma_quadrados(a, b):\n",
        "    return a**2 + b**2"
      ],
      "metadata": {
        "trusted": true,
        "id": "6dbddaad"
      },
      "outputs": [],
      "execution_count": null
    },
    {
      "id": "9175a7da",
      "cell_type": "code",
      "source": [
        "numero1 = int(input(\"Digite o primeiro número: \"))\n",
        "numero2 = int(input(\"Digite o segundo número: \"))\n",
        "\n",
        "resultado = soma_quadrados(numero1, numero2)\n",
        "print(f\"A soma dos quadrados de {numero1} e {numero2} é {resultado}.\")"
      ],
      "metadata": {
        "trusted": true,
        "colab": {
          "base_uri": "https://localhost:8080/"
        },
        "id": "9175a7da",
        "outputId": "f2d89445-718c-4d41-8d25-2c6221657798"
      },
      "outputs": [
        {
          "output_type": "stream",
          "name": "stdout",
          "text": [
            "Digite o primeiro número: 2\n",
            "Digite o segundo número: 3\n",
            "A soma dos quadrados de 2 e 3 é 13.\n"
          ]
        }
      ],
      "execution_count": null
    },
    {
      "id": "6ba34ce0",
      "cell_type": "markdown",
      "source": [
        "### Q3.\n",
        "\n",
        "- Crie uma função em Python chamada ```soma_digitos``` que recebe um número inteiro como parâmetro e retorna a soma dos seus dígitos. Por exemplo, para o número 123, a função deve retornar 6, $(1 + 2 + 3)$.\n",
        "    - O desafio aqui é separar os dígitos de um número inteiro usando operações aritméticas <br> <br>\n",
        "\n",
        "- No programa principal solicite ao usuário que insira um número e utilize a função ```soma_digitos``` para calcular e exibir a soma dos seus dígitos."
      ],
      "metadata": {
        "id": "6ba34ce0"
      }
    },
    {
      "id": "34838ebf",
      "cell_type": "code",
      "source": [
        "def soma_digitos(numero):\n",
        "    \"\"\"\n",
        "    Calcula a soma dos dígitos de um número inteiro.\n",
        "\n",
        "    :param numero: O número inteiro cujo dígitos serão somados.\n",
        "    :return: A soma dos dígitos do número.\n",
        "    \"\"\"\n",
        "    soma = 0\n",
        "    while numero > 0:\n",
        "        soma += numero % 10  # Adiciona o dígito da unidade à soma\n",
        "        numero //= 10  # Remove o dígito da unidade\n",
        "    return soma\n"
      ],
      "metadata": {
        "id": "34838ebf"
      },
      "outputs": [],
      "execution_count": null
    },
    {
      "id": "27c35b21",
      "cell_type": "code",
      "source": [
        "numero_usuario = int(input(\"Digite um número inteiro: \"))\n",
        "\n",
        "resultado = soma_digitos(numero_usuario)\n",
        "print(f\"A soma dos dígitos de {numero_usuario} é {resultado}.\")"
      ],
      "metadata": {
        "colab": {
          "base_uri": "https://localhost:8080/"
        },
        "id": "27c35b21",
        "outputId": "f230430a-ac94-460c-a4d1-df8e24940f8c"
      },
      "outputs": [
        {
          "output_type": "stream",
          "name": "stdout",
          "text": [
            "Digite um número inteiro: 3212\n",
            "A soma dos dígitos de 3212 é 8.\n"
          ]
        }
      ],
      "execution_count": null
    },
    {
      "id": "c318b159",
      "cell_type": "markdown",
      "source": [
        "### Q4.\n",
        "\n",
        "- Crie a função ```inverteValor()``` que recebe um inteiro de qualquer tamanho e retorna esse valor invertido usando apenas operações aritméticas\n",
        "- Crie a função ```verificaInverso()``` que recebe o valor original e o valor invertido e retorna verdadeiro se ambos forem igualmente par ou igualmente ímpar. Retorne falso caso contrário.\n",
        "- No programa principal, peça um valor do usuário e imprima o retorno de ambas as funções.\n"
      ],
      "metadata": {
        "id": "c318b159"
      }
    },
    {
      "id": "e4e47d1d",
      "cell_type": "code",
      "source": [
        "def inverteValor(numero):\n",
        "    \"\"\"\n",
        "    Inverte os dígitos de um número inteiro.\n",
        "\n",
        "    :param numero: O número inteiro a ser invertido.\n",
        "    :return: O número com seus dígitos invertidos.\n",
        "    \"\"\"\n",
        "    invertido = 0\n",
        "    numero = abs(numero)  # Garante que o número seja positivo\n",
        "\n",
        "    while numero > 0:\n",
        "        digito = numero % 10  # Obtém o último dígito\n",
        "        invertido = invertido * 10 + digito  # Adiciona o dígito ao número invertido\n",
        "        numero //= 10  # Remove o último dígito do número original\n",
        "\n",
        "    return invertido\n",
        "\n",
        "def verificaInverso(original, invertido):\n",
        "    \"\"\"\n",
        "    Verifica se ambos os números são igualmente pares ou igualmente ímpares.\n",
        "\n",
        "    :param original: O número original.\n",
        "    :param invertido: O número invertido.\n",
        "    :return: True se ambos são igualmente pares ou ímpares, False caso contrário.\n",
        "    \"\"\"\n",
        "    return (original % 2 == invertido % 2)\n",
        "\n"
      ],
      "metadata": {
        "id": "e4e47d1d"
      },
      "outputs": [],
      "execution_count": null
    },
    {
      "id": "a9514e56",
      "cell_type": "code",
      "source": [
        "numero_usuario = int(input(\"Digite um número inteiro: \"))\n",
        "\n",
        "numero_invertido = inverteValor(numero_usuario)\n",
        "\n",
        "resultado_verificacao = verificaInverso(numero_usuario, numero_invertido)\n",
        "\n",
        "print(f\"Número original: {numero_usuario}\")\n",
        "print(f\"Número invertido: {numero_invertido}\")\n",
        "print(f\"Ambos são igualmente pares ou ímpares? {'Sim' if resultado_verificacao else 'Não'}\")\n",
        "\n",
        "\n",
        "\n"
      ],
      "metadata": {
        "colab": {
          "base_uri": "https://localhost:8080/"
        },
        "id": "a9514e56",
        "outputId": "65d3a7f5-aa21-4580-e810-a27dc9ade295"
      },
      "outputs": [
        {
          "output_type": "stream",
          "name": "stdout",
          "text": [
            "Digite um número inteiro: 273\n",
            "Número original: 273\n",
            "Número invertido: 372\n",
            "Ambos são igualmente pares ou ímpares? Não\n"
          ]
        }
      ],
      "execution_count": null
    },
    {
      "id": "329be966",
      "cell_type": "markdown",
      "source": [
        "### Q5.\n",
        "\n",
        "Você está desenvolvendo um programa para auxiliar em cálculos de geometria básica. Crie as seguintes funções:\n",
        "- A função ```calcula_perimetro_triangulo()``` que recebe três inteiros correspondentes aos lados de um triângulo e retorna o perímetro do triângulo, ou seja, a soma dos seus lados.\n",
        "- A função ```calcula_perimetro_circulo()``` que recebe um inteiro referente ao raio do círculo e retorna o perímetro do círculo, dado por $2 \\pi r$. Use a constante $\\pi$ da biblioteca ```math```.\n",
        "- A função ```calcula_perimetro_retangulo()``` que possui um parâmetro obrigatório ```lado1``` e um opcional ```lado2```, ambos inteiros. Se o valor opcional não for fornecido, significa que se trata de um quadrado. Sua função deve calcular e retornar o perímetro do retângulo, ou seja, a soma de seus lados.\n",
        "    - Para o quadrado, é dado por $4 \\times lado1$\n",
        "    - Para o retângulo é dado por $2 \\times lado1 + 2 \\times lado2$\n",
        "    \n",
        "- No programa principal apresente um menu com as opções disponíveis do seu sistema e uma quarta opção ```Sair```. Solicite ao usuário a opção desejada, solicite as entradas correspondentes à opção escolhida, invoque a respective função e apresente o seu retorno. Seu programa deve retornar ao menu até que o usuário escolha a opção ```Sair```\n",
        "\n",
        "Exemplo de interação:\n",
        "```\n",
        "1 - Calcular perímetro triângulo\n",
        "2 - Calcular perímetro círculo\n",
        "3 - Calcular perímetro retângulo\n",
        "4 - Sair\n",
        "\n",
        "Opção: 1\n",
        "Digite os três lados do triângulo:\n",
        "3\n",
        "4\n",
        "5\n",
        "O perímetro é: 12\n",
        "\n",
        "1 - Calcular perímetro triângulo\n",
        "2 - Calcular perímetro círculo\n",
        "3 - Calcular perímetro retângulo\n",
        "4 - Sair\n",
        "\n",
        "Opção: 3\n",
        "Informe os dois lados do retângulo. Se for um quadrado, digite 0 para o segundo valor:\n",
        "5\n",
        "0\n",
        "O perímetro é: 20\n",
        "\n",
        "1 - Calcular perímetro triângulo\n",
        "2 - Calcular perímetro círculo\n",
        "3 - Calcular perímetro retângulo\n",
        "4 - Sair\n",
        "\n",
        "Opção: 4\n",
        "```"
      ],
      "metadata": {
        "id": "329be966"
      }
    },
    {
      "id": "0793d328",
      "cell_type": "code",
      "source": [
        "import math\n",
        "\n",
        "def calcula_perimetro_triangulo(lado1, lado2, lado3):\n",
        "    return lado1 + lado2 + lado3\n",
        "\n",
        "def calcula_perimetro_circulo(raio):\n",
        "    return 2 * math.pi * raio\n",
        "\n",
        "def calcula_perimetro_retangulo(lado1, lado2=None):\n",
        "    if lado2 is None:\n",
        "        # Quadrado\n",
        "        return 4 * lado1\n",
        "    else:\n",
        "        # Retângulo\n",
        "        return 2 * (lado1 + lado2)\n"
      ],
      "metadata": {
        "id": "0793d328"
      },
      "outputs": [],
      "execution_count": null
    },
    {
      "id": "36269c71",
      "cell_type": "code",
      "source": [
        "def exibir_menu():\n",
        "    print(\"Menu:\")\n",
        "    print(\"1. Calcular perímetro do triângulo\")\n",
        "    print(\"2. Calcular perímetro do círculo\")\n",
        "    print(\"3. Calcular perímetro do retângulo ou quadrado\")\n",
        "    print(\"4. Sair\")\n",
        "\n",
        "while True:\n",
        "    exibir_menu()\n",
        "    opcao = input(\"Escolha uma opção (1-4): \")\n",
        "\n",
        "    match opcao:\n",
        "        case \"1\":\n",
        "            lado1 = int(input(\"Digite o primeiro lado: \"))\n",
        "            lado2 = int(input(\"Digite o segundo lado: \"))\n",
        "            lado3 = int(input(\"Digite o terceiro lado: \"))\n",
        "            resultado = calcula_perimetro_triangulo(lado1, lado2, lado3)\n",
        "            print(f\"Perímetro do triângulo: {resultado}\")\n",
        "\n",
        "        case \"2\":\n",
        "            raio = int(input(\"Digite o raio do círculo: \"))\n",
        "            resultado = calcula_perimetro_circulo(raio)\n",
        "            print(f\"Perímetro do círculo: {resultado:.2f}\")\n",
        "\n",
        "        case \"3\":\n",
        "            lado1 = int(input(\"Digite o primeiro lado: \"))\n",
        "            lado2 = input(\"Digite o segundo lado (deixe em branco se for quadrado): \")\n",
        "            if lado2:\n",
        "                lado2 = int(lado2)\n",
        "                resultado = calcula_perimetro_retangulo(lado1, lado2)\n",
        "            else:\n",
        "                resultado = calcula_perimetro_retangulo(lado1)\n",
        "            print(f\"Perímetro do retângulo ou quadrado: {resultado}\")\n",
        "\n",
        "        case \"4\":\n",
        "            print(\"Programa encerrado.\")\n",
        "            break\n",
        "\n",
        "        case _:\n",
        "            print(\"Opção inválida! Tente novamente.\")\n"
      ],
      "metadata": {
        "colab": {
          "base_uri": "https://localhost:8080/"
        },
        "id": "36269c71",
        "outputId": "8f936495-f4d5-4a4d-c694-a6b759682577"
      },
      "outputs": [
        {
          "output_type": "stream",
          "name": "stdout",
          "text": [
            "Menu:\n",
            "1. Calcular perímetro do triângulo\n",
            "2. Calcular perímetro do círculo\n",
            "3. Calcular perímetro do retângulo ou quadrado\n",
            "4. Sair\n",
            "Escolha uma opção (1-4): 4\n",
            "Saindo...\n"
          ]
        }
      ],
      "execution_count": null
    },
    {
      "id": "3016bcc7",
      "cell_type": "markdown",
      "source": [
        "## Funções ```lambda```"
      ],
      "metadata": {
        "id": "3016bcc7"
      }
    },
    {
      "id": "f9cdb8dd",
      "cell_type": "markdown",
      "source": [
        "### Q6.\n",
        "\n",
        "Crie uma função lambda para verificar se um número é par ou ímpar. Em seguida, solicite ao usuário um número indefinidos de valores (até que o usuário digite 0). Para cada valor de entrada, informe se é par ou ímpar.\n",
        "\n",
        "Exemplo de interação:\n",
        "```\n",
        "Digite os valores que deseja verificar a paridade (digite 0 para finalizar a entrada de dados):\n",
        "3\n",
        "ímpar\n",
        "8\n",
        "par\n",
        "12\n",
        "par\n",
        "5\n",
        "ímpar\n",
        "7ímpar\n",
        "```"
      ],
      "metadata": {
        "id": "f9cdb8dd"
      }
    },
    {
      "id": "e3c31a78",
      "cell_type": "code",
      "source": [
        "# Função lambda para verificar se um número é par ou ímpar\n",
        "verifica_par_ou_impar = lambda x: \"Par\" if x % 2 == 0 else \"Ímpar\"\n",
        "\n",
        "while True:\n",
        "    # Solicita ao usuário um número\n",
        "    valor = int(input(\"Digite um número (0 para encerrar): \"))\n",
        "\n",
        "    # Se o número for 0, encerra o loop\n",
        "    if valor == 0:\n",
        "        break\n",
        "\n",
        "    # Usa a função lambda para verificar se o número é par ou ímpar e imprime o resultado\n",
        "    resultado = verifica_par_ou_impar(valor)\n",
        "    print(f\"O número {valor} é {resultado}.\")"
      ],
      "metadata": {
        "colab": {
          "base_uri": "https://localhost:8080/"
        },
        "id": "e3c31a78",
        "outputId": "be359e59-edf4-4a72-da4b-baf9aa1a0aae"
      },
      "outputs": [
        {
          "name": "stdout",
          "output_type": "stream",
          "text": [
            "Digite um número (0 para encerrar): 3\n",
            "O número 3 é Ímpar.\n",
            "Digite um número (0 para encerrar): 8\n",
            "O número 8 é Par.\n",
            "Digite um número (0 para encerrar): 12\n",
            "O número 12 é Par.\n",
            "Digite um número (0 para encerrar): 5\n",
            "O número 5 é Ímpar.\n",
            "Digite um número (0 para encerrar): 7\n",
            "O número 7 é Ímpar.\n",
            "Digite um número (0 para encerrar): 0\n"
          ]
        }
      ],
      "execution_count": null
    },
    {
      "id": "5a87474d",
      "cell_type": "markdown",
      "source": [
        "### Q7.\n",
        "\n",
        "Escreva um programa que pergunte ao usuário qual operação ele deseja: maior ou menor.\n",
        "Em seguida leia uma quantidade indefinida de valores do usuário, até que o usuário digite o valor zero.\n",
        "Apresente ao final o maior ou menor dos valores digitados de acordo com a escolha do usuário.\n",
        "\n",
        "**Sua solução deve incluir pelo menos uma função ```lambda```**\n",
        "\n",
        "Exemplo de interação:\n",
        "```\n",
        "Opções: (1) maior ou (2) menor?\n",
        "Opção: 1\n",
        "\n",
        "Digite os valores de entrada. Digite 0 para finalizar a entrada de valores.\n",
        "4\n",
        "12\n",
        "15\n",
        "1\n",
        "0\n",
        "\n",
        "O maior valor é: 15\n",
        "```"
      ],
      "metadata": {
        "id": "5a87474d"
      }
    },
    {
      "id": "ee3f68ca",
      "cell_type": "code",
      "source": [
        "tipoOperacao = int(input(\"(1) Maior ou (2) Menor: \"))\n",
        "if tipoOperacao == 1:\n",
        "  nomeTipoOperacao = \"Maior\"\n",
        "  resultado = float(\"-inf\")\n",
        "  funcao_operacao = lambda numeroUsuario, resultado: numeroUsuario > resultado\n",
        "\n",
        "else:\n",
        "  nomeTipoOperacao = \"Menor\"\n",
        "  resultado = float(\"inf\")\n",
        "  funcao_operacao = lambda numeroUsuario, resultado: numeroUsuario < resultado\n",
        "\n",
        "while True:\n",
        "  numeroUsuario = int(input(\"Digite um número: \"))\n",
        "  if numeroUsuario == 0:\n",
        "    break\n",
        "\n",
        "  if funcao_operacao(numeroUsuario, resultado):\n",
        "    resultado = numeroUsuario\n",
        "\n",
        "print(f\"O {nomeTipoOperacao} número digitado foi {resultado} \")"
      ],
      "metadata": {
        "colab": {
          "base_uri": "https://localhost:8080/"
        },
        "id": "ee3f68ca",
        "outputId": "d316d497-f808-4f62-ad7d-d79b365c5bb9"
      },
      "outputs": [
        {
          "output_type": "stream",
          "name": "stdout",
          "text": [
            "(1) Maior ou (2) Menor: 2\n",
            "Digite um número: 3\n",
            "Digite um número: 2\n",
            "Digite um número: 1\n",
            "Digite um número: 0\n",
            "O Menor número digitado foi 1 \n"
          ]
        }
      ],
      "execution_count": null
    }
  ]
}