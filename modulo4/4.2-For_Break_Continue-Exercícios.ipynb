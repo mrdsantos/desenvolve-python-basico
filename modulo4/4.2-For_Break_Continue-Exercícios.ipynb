{
  "metadata": {
    "kernelspec": {
      "name": "python",
      "display_name": "Python (Pyodide)",
      "language": "python"
    },
    "language_info": {
      "codemirror_mode": {
        "name": "python",
        "version": 3
      },
      "file_extension": ".py",
      "mimetype": "text/x-python",
      "name": "python",
      "nbconvert_exporter": "python",
      "pygments_lexer": "ipython3",
      "version": "3.8"
    },
    "colab": {
      "provenance": []
    }
  },
  "nbformat_minor": 5,
  "nbformat": 4,
  "cells": [
    {
      "id": "29e89030",
      "cell_type": "markdown",
      "source": [
        "# Módulo 4 - Repetições\n",
        "\n",
        "## Aulas 4.2 - Comando ```for``` e 4.3 Break e Continue"
      ],
      "metadata": {
        "id": "29e89030"
      }
    },
    {
      "id": "a45b42df",
      "cell_type": "markdown",
      "source": [
        "### Q1.\n",
        "\n",
        "Crie um programa em Python que utilize o comando for para imprimir os números de 10 a 1, em ordem decrescente."
      ],
      "metadata": {
        "id": "a45b42df"
      }
    },
    {
      "id": "55a75b3d",
      "cell_type": "code",
      "source": [
        "## Escreva e execute seu código aqui\n",
        "for n in range(10, 0, -1):\n",
        "  print(n)"
      ],
      "metadata": {
        "trusted": true,
        "id": "55a75b3d",
        "outputId": "49cf6d4f-7611-4801-83a5-6f3e70c5d0a3"
      },
      "outputs": [
        {
          "name": "stdout",
          "text": "10\n9\n8\n7\n6\n5\n4\n3\n2\n1\n",
          "output_type": "stream"
        }
      ],
      "execution_count": null
    },
    {
      "id": "94b47c36",
      "cell_type": "markdown",
      "source": [
        "### Q2.\n",
        "\n",
        "Dado um número inteiro positivo informado pelo usuário, crie um programa em Python que utilize o comando for para calcular e exibir a soma dos números de 1 até o número informado. Ou seja, $1 + 2 + 3 + ... + n$\n",
        "\n",
        "Exemplo de interação:\n",
        "```\n",
        "Digite um número: 5\n",
        "A soma dos números de 1 a 5 é 15\n",
        "```\n"
      ],
      "metadata": {
        "id": "94b47c36"
      }
    },
    {
      "id": "45b71596",
      "cell_type": "code",
      "source": [
        "## Escreva e execute seu código aqui\n",
        "numero = int(input(\"Digite um número: \"))\n",
        "\n",
        "soma = 0\n",
        "\n",
        "for i in range(1, numero + 1):\n",
        "    soma += i\n",
        "\n",
        "print(f\"A soma dos números de 1 a {numero} é {soma}\")"
      ],
      "metadata": {
        "id": "45b71596"
      },
      "outputs": [],
      "execution_count": null
    },
    {
      "id": "0411d170",
      "cell_type": "markdown",
      "source": [
        "### Q3.\n",
        "\n",
        "Escreva um programa que lê 10 valores inteiros positivos do usuário e ao final imprime a média dos valores digitados com duas casas decimais.\n",
        "\n",
        "```\n",
        "Digite 10 números positivos:\n",
        "3\n",
        "2\n",
        "12\n",
        "14\n",
        "20\n",
        "42\n",
        "19\n",
        "0\n",
        "8\n",
        "1\n",
        "A média dos valores digitados é 12.10\n",
        "```"
      ],
      "metadata": {
        "id": "0411d170"
      }
    },
    {
      "id": "3f72f358",
      "cell_type": "code",
      "source": [
        "## Escreva e execute seu código aqui\n",
        "numero = 0\n",
        "total = 0\n",
        "\n",
        "print (\"Vamos calcular a média de 10 números que você inserir\")\n",
        "for i in range(10):\n",
        "  numero = int(input(\"Digite um número positivo: \"))\n",
        "  total += numero\n",
        "\n",
        "print (f\"A média da soma dos números digitados é {total/10:.2f}\")"
      ],
      "metadata": {
        "id": "3f72f358"
      },
      "outputs": [],
      "execution_count": null
    },
    {
      "id": "d62e27ff",
      "cell_type": "markdown",
      "source": [
        "### Q4.\n",
        "\n",
        "Você vai criar um sistema que registra os resultados dos jogos do Atlético MG ao longo de um campeonato. Seu sistema vai receber os resultados de todos os jogos do Galo, e deve calcular a pontuação do time sabendo que vitórias valem 3 pontos, empates 1 ponto e derrotas 0 pontos.\n",
        "\n",
        "Entrada: <br>\n",
        "A primeira linha de entrada é um inteiro N com a quantidade jogos do galo. Para cada jogo você deve ler 2 inteiros, o primeiro com a quantidade de gols do galo e o segundo com a quantidade de gols do time oponente.\n",
        "\n",
        "Saída: <br>\n",
        "Apresente a soma de vitórias, empates e derrotas do galo, junto com o cálculo da pontuação total.\n",
        "\n",
        "Ex:\n",
        "```\n",
        "Entrada:\n",
        "4\n",
        "2\n",
        "0\n",
        "1\n",
        "1\n",
        "0\n",
        "3\n",
        "1\n",
        "0\n",
        "\n",
        "Saída:\n",
        "Vitórias: 2\n",
        "Empates: 1\n",
        "Derrotas: 1\n",
        "Pontuação: 7\n",
        "\n",
        "```\n",
        "\n",
        "\n"
      ],
      "metadata": {
        "id": "d62e27ff"
      }
    },
    {
      "id": "d3fdfc2a",
      "cell_type": "code",
      "source": [
        "## Escreva e execute seu código aqui\n",
        "vitoria, empate, derrota, pontuacao, numeroJogos = 0, 0, 0, 0, 0\n",
        "numeroJogos = int(input(\"Digite quantos jogos o galo jogou no campeonato: \"))\n",
        "for i in range(numeroJogos):\n",
        "  golsGalo = int(input(\"Digite quantos gols o galo fez: \"))\n",
        "  golsTime = int(input(\"Digite quantos gols o time oponente fez: \"))\n",
        "  if golsGalo > golsTime:\n",
        "    vitoria += 1\n",
        "    pontuacao += 3\n",
        "  elif golsGalo == golsTime:\n",
        "    empate += 1\n",
        "    pontuacao += 1\n",
        "  else:\n",
        "    derrota += 1\n",
        "\n",
        "print(\"Vitórias: \", vitoria)\n",
        "print(\"Empates: \", empate)\n",
        "print(\"Derrotas: \", derrota)\n",
        "print(\"Pontuação: \", pontuacao)"
      ],
      "metadata": {
        "trusted": true,
        "colab": {
          "base_uri": "https://localhost:8080/"
        },
        "id": "d3fdfc2a",
        "outputId": "a02d19a6-16a5-436f-d52e-3c6b15ea590c"
      },
      "outputs": [
        {
          "output_type": "stream",
          "name": "stdout",
          "text": [
            "Digite quantos jogos o galo jogou no campeonato: 2\n",
            "Digite quantos gols o galo fez: 1\n",
            "Digite quantos gols o time oponente fez: 2\n",
            "Digite quantos gols o galo fez: 1\n",
            "Digite quantos gols o time oponente fez: 5\n",
            "Vitórias:  0\n",
            "Empates:  0\n",
            "Derrotas:  2\n",
            "Pontuação:  0\n"
          ]
        }
      ],
      "execution_count": 1
    },
    {
      "id": "fc98604d",
      "cell_type": "markdown",
      "source": [
        "### Q5.\n",
        "\n",
        "Faça um programa que lê dois inteiros N e M, e imprime na tela um campo de batalha naval. O tabuleiro deve possuir N linhas e M colunas. A primeira linha é composta por um espaço em branco e o cabeçalho das colunas, ou seja, valores de 1 a M. As N linhas seguintes iniciam com o cabeçalho da linha, ou seja, seu número, seguido de M caracteres \"/\" (barra) indicando uma possível posição jogável.\n",
        "\n",
        "```\n",
        "Entrada:\n",
        "5\n",
        "4\n",
        "\n",
        "Saída:\n",
        "  1 2 3 4\n",
        "1 / / / /\n",
        "2 / / / /\n",
        "3 / / / /\n",
        "4 / / / /\n",
        "5 / / / /\n",
        "```\n",
        "\n",
        "Para esse exercício, precisamos lembrar que o comando print implicitamente adiciona uma quebra de linha ao final da impressão. Podemos interferir no final da impressão adicionando mais uma entrada ao print. No exemplo, finalizamos cada linha com um espaço em branco:\n",
        "```python\n",
        "print(\"Texto qualquer\", end = \" \")\n",
        "```"
      ],
      "metadata": {
        "id": "fc98604d"
      }
    },
    {
      "id": "a60ef197",
      "cell_type": "code",
      "source": [
        "## Escreva e execute seu código aqui\n",
        "# Leitura dos valores de entrada\n",
        "n = int(input(\"Digite o número de linhas: \"))\n",
        "m = int(input(\"Digite o número de colunas: \"))\n",
        "\n",
        "# Impressão do cabeçalho das colunas\n",
        "print(\" \", end=\" \")\n",
        "for col in range(1, m + 1):\n",
        "    print(col, end=\" \")\n",
        "print()  # Quebra de linha após o cabeçalho das colunas\n",
        "\n",
        "# Impressão das linhas do tabuleiro\n",
        "for linha in range(1, n + 1):\n",
        "    print(linha, end=\" \")  # Cabeçalho da linha\n",
        "    for jogavelPosicao in range(m):\n",
        "        print(\"/\", end=\" \")  # Posições jogáveis\n",
        "    print()  # Quebra de linha após cada linha do tabuleiro\n"
      ],
      "metadata": {
        "trusted": true,
        "colab": {
          "base_uri": "https://localhost:8080/"
        },
        "id": "a60ef197",
        "outputId": "0a7d9fd2-6efa-4b5f-a46d-3539964b0cbc"
      },
      "outputs": [
        {
          "output_type": "stream",
          "name": "stdout",
          "text": [
            "Digite o número de linhas: 5\n",
            "Digite o número de colunas: 5\n",
            "  1 2 3 4 5 \n",
            "1 / / / / / \n",
            "2 / / / / / \n",
            "3 / / / / / \n",
            "4 / / / / / \n",
            "5 / / / / / \n"
          ]
        }
      ],
      "execution_count": 2
    },
    {
      "id": "4654dc0b",
      "cell_type": "markdown",
      "source": [
        "---\n",
        "## Break e Continue"
      ],
      "metadata": {
        "id": "4654dc0b"
      }
    },
    {
      "id": "24fe9d85",
      "cell_type": "markdown",
      "source": [
        "### Q6.\n",
        "\n",
        "Escreva um programa que lê uma quantidade indefinida de valores e informa o maior e o menor valor digitados. A leitura é encerrada quando o usuário digitar o valor 0 (zero).\n",
        "\n",
        "```\n",
        "Entrada:\n",
        "12\n",
        "-1\n",
        "29\n",
        "11\n",
        "-5\n",
        "0\n",
        "\n",
        "Saída:\n",
        "Maior: 29\n",
        "Menor: -5\n",
        "```"
      ],
      "metadata": {
        "id": "24fe9d85"
      }
    },
    {
      "id": "ee1c466a",
      "cell_type": "code",
      "source": [
        "## Escreva e execute seu código aqui\n",
        "maior = float(\"-inf\")\n",
        "menor = float(\"inf\")\n",
        "\n",
        "while True:\n",
        "    valor = int(input(\"Digite um valor (0 para encerrar): \"))\n",
        "\n",
        "    if valor == 0:\n",
        "        break  # Encerra o loop se o valor for 0\n",
        "\n",
        "    if valor > maior:\n",
        "        maior = valor\n",
        "\n",
        "    if valor < menor:\n",
        "        menor = valor\n",
        "\n",
        "print(\"Maior:\", maior)\n",
        "print(\"Menor:\", menor)\n"
      ],
      "metadata": {
        "trusted": true,
        "colab": {
          "base_uri": "https://localhost:8080/"
        },
        "id": "ee1c466a",
        "outputId": "50441020-072b-4747-d409-8b617ad02ab6"
      },
      "outputs": [
        {
          "output_type": "stream",
          "name": "stdout",
          "text": [
            "Digite um valor (0 para encerrar): 4\n",
            "Digite um valor (0 para encerrar): 3\n",
            "Digite um valor (0 para encerrar): 2\n",
            "Digite um valor (0 para encerrar): 0\n",
            "Maior: 4\n",
            "Menor: 2\n"
          ]
        }
      ],
      "execution_count": 4
    },
    {
      "id": "30d486f7",
      "cell_type": "markdown",
      "source": [
        "### Q7.\n",
        "\n",
        "Escreva um programa que lê uma quantidade indefinida de valores e informa o **produto** dos valores positivos digitados. A leitura é encerrada quando o usuário digitar o valor 0 (zero).\n",
        "\n",
        "```\n",
        "Entrada:\n",
        "2\n",
        "-1\n",
        "1\n",
        "3\n",
        "-5\n",
        "0\n",
        "\n",
        "Saída:\n",
        "Produto: 6\n",
        "```"
      ],
      "metadata": {
        "id": "30d486f7"
      }
    },
    {
      "id": "2f1ac324",
      "cell_type": "code",
      "source": [
        "## Escreva e execute seu código aqui\n",
        "produto = 1\n",
        "\n",
        "while True:\n",
        "    valor = int(input(\"Digite um valor (0 para encerrar): \"))\n",
        "\n",
        "    if valor == 0:\n",
        "        break\n",
        "\n",
        "    if valor > 0:\n",
        "        produto *= valor\n",
        "\n",
        "print(\"Produto:\", produto)\n"
      ],
      "metadata": {
        "trusted": true,
        "colab": {
          "base_uri": "https://localhost:8080/"
        },
        "id": "2f1ac324",
        "outputId": "09bb0096-5e7b-4dda-fd1b-d4d5eda51c67"
      },
      "outputs": [
        {
          "output_type": "stream",
          "name": "stdout",
          "text": [
            "Digite um valor (0 para encerrar): 2\n",
            "Digite um valor (0 para encerrar): 3\n",
            "Digite um valor (0 para encerrar): 4\n",
            "Digite um valor (0 para encerrar): 0\n",
            "Produto: 24\n"
          ]
        }
      ],
      "execution_count": 5
    },
    {
      "id": "e932f3cf",
      "cell_type": "markdown",
      "source": [
        "### Q8.\n",
        "\n",
        "Vamos fazer uma calculadora que aceita expressões aritméticas de qualquer tamanho até que o usuário digite a palavra \"Fim\". Sua calculadora executa apenas as operações \"+\", \"-\".\n",
        "\n",
        "```\n",
        "Entrada:\n",
        "5\n",
        "+\n",
        "8\n",
        "-\n",
        "3\n",
        "+\n",
        "2\n",
        "Fim\n",
        "\n",
        "Saída:\n",
        "12\n",
        "```"
      ],
      "metadata": {
        "id": "e932f3cf"
      }
    },
    {
      "id": "e835d870",
      "cell_type": "code",
      "source": [
        "# Inicializa a variável para armazenar o resultado\n",
        "resultado = None\n",
        "\n",
        "# Primeiro conjunto de entradas\n",
        "n1 = input(\"Digite o primeiro número (ou 'Fim' para encerrar): \")\n",
        "if n1.lower() != \"fim\":\n",
        "    operator = input(\"Digite o operador (+ ou -): \")\n",
        "    n2 = input(\"Digite o segundo número (ou 'Fim' para encerrar): \")\n",
        "\n",
        "    if n2.lower() != \"fim\":\n",
        "        n1 = int(n1)\n",
        "        n2 = int(n2)\n",
        "\n",
        "        # Realiza a operação inicial\n",
        "        if operator == '+':\n",
        "            resultado = n1 + n2\n",
        "        elif operator == '-':\n",
        "            resultado = n1 - n2\n",
        "\n",
        "        # Continua a pedir novas operações até que o usuário digite 'Fim'\n",
        "        while resultado is not None:\n",
        "            operator = input(\"Digite o próximo operador (+ ou -) ou 'Fim' para encerrar: \")\n",
        "            if operator.lower() == \"fim\":\n",
        "                break\n",
        "            n2 = input(\"Digite o próximo número (ou 'Fim' para encerrar): \")\n",
        "            if n2.lower() == \"fim\":\n",
        "                break\n",
        "            n2 = int(n2)\n",
        "            if operator == '+':\n",
        "                resultado += n2\n",
        "            elif operator == '-':\n",
        "                resultado -= n2\n",
        "\n",
        "        # Imprime o resultado final\n",
        "        print(\"Resultado:\", resultado)\n"
      ],
      "metadata": {
        "colab": {
          "base_uri": "https://localhost:8080/"
        },
        "id": "e835d870",
        "outputId": "07ab56c8-9b66-4c43-8ca0-bdf0940e4774"
      },
      "outputs": [
        {
          "output_type": "stream",
          "name": "stdout",
          "text": [
            "Digite o primeiro número (ou 'Fim' para encerrar): 2\n",
            "Digite o operador (+ ou -): -\n",
            "Digite o segundo número (ou 'Fim' para encerrar): 1\n",
            "Digite o próximo operador (+ ou -) ou 'Fim' para encerrar: +\n",
            "Digite o próximo número (ou 'Fim' para encerrar): 3\n",
            "Digite o próximo operador (+ ou -) ou 'Fim' para encerrar: -\n",
            "Digite o próximo número (ou 'Fim' para encerrar): 5\n",
            "Digite o próximo operador (+ ou -) ou 'Fim' para encerrar: fim\n",
            "Resultado: -1\n"
          ]
        }
      ],
      "execution_count": 7
    }
  ]
}