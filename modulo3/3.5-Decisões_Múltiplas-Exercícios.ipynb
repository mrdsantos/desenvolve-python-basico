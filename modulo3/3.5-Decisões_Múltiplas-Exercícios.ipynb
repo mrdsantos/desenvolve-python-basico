{
  "metadata": {
    "kernelspec": {
      "name": "python",
      "display_name": "Python (Pyodide)",
      "language": "python"
    },
    "language_info": {
      "codemirror_mode": {
        "name": "python",
        "version": 3
      },
      "file_extension": ".py",
      "mimetype": "text/x-python",
      "name": "python",
      "nbconvert_exporter": "python",
      "pygments_lexer": "ipython3",
      "version": "3.8"
    }
  },
  "nbformat_minor": 5,
  "nbformat": 4,
  "cells": [
    {
      "id": "559687a1",
      "cell_type": "markdown",
      "source": "# Módulo 3 - Condicionais\n\n## 3.5 - Decisões Múltiplas",
      "metadata": {}
    },
    {
      "id": "42f823b3",
      "cell_type": "markdown",
      "source": "### Q1.\n\nVamos fazer uma calculadora! Escreva um programa que solicita 3 entradas: o primeiro operando (float), o operador (caracter) e o segundo operando (float). Seu programa deve imprimir o resultado da operação solicitada, entre soma (+), subtração (-), divisão (/), multiplicação (\\*) ou potência (\\*\\*). Seu programa também deve imprimir uma mensagem de erro se a operação solicitada não estiver dentre as opções disponíveis.\n\nSeguem alguns exemplos de interação com seu código no terminal. \n\n\n```\nDigite o primeiro operando: 5.2\nDigite o operador (+, -, /, *, **): *\nDigite o segundo operando` 3\nResultado: 5.2 * 3.0 = 15.6\n```\n\n```\nDigite o primeiro operando: 8\nDigite o operador (+, -, /, *, **): **\nDigite o segundo operando: 2\nResultado: 8.0 * 2.0 = 64.0\n```\n\n```\nDigite o primeiro operando: 7\nDigite o operador (+, -, /, *, **): %\nDigite o segundo operando: 3.4\nErro! Operação inválida. \n```\n\n```\nDigite o primeiro operando: 10\nDigite o operador (+, -, /, *, **): /\nDigite o segundo operando: 2.5\nResultado: 10.0 / 2.5 = 4.0\n```\n\n",
      "metadata": {}
    },
    {
      "id": "c5b8cd4d",
      "cell_type": "code",
      "source": "n1 = float(input(\"Digite o primeiro operando: \"))\nn2 = float(input(\"Digite o segundo operando: \"))\noperator = input(\"Digite o operador (+, -, *, /): \")\n\nif operator == '+':\n    print(f\"O resultado da soma de {n1} + {n2} é {n1 + n2}\")\nelif operator == '-':\n    print(f\"O resultado da subtração de {n1} - {n2} é {n1 - n2}\")\nelif operator == '*':\n    print(f\"O resultado da multiplicação de {n1} * {n2} é {n1 * n2}\")\nelif operator == '/':\n    print(f\"O resultado da divisão de {n1} / {n2} é {n1 / n2}\")\nelif operator == '**':\n    print(f\"O resultado da potência de {n1} ** {n2} é {n1 ** n2}\")\nelse:\n    print(\"Operador inválido\")",
      "metadata": {
        "trusted": true
      },
      "outputs": [
        {
          "ename": "<class 'TypeError'>",
          "evalue": "float() argument must be a string or a real number, not 'PyodideFuture'",
          "traceback": [
            "\u001b[0;31m---------------------------------------------------------------------------\u001b[0m",
            "\u001b[0;31mTypeError\u001b[0m                                 Traceback (most recent call last)",
            "Cell \u001b[0;32mIn[4], line 1\u001b[0m\n\u001b[0;32m----> 1\u001b[0m n1 \u001b[38;5;241m=\u001b[39m \u001b[38;5;28;43mfloat\u001b[39;49m\u001b[43m(\u001b[49m\u001b[38;5;28;43minput\u001b[39;49m\u001b[43m(\u001b[49m\u001b[38;5;124;43m\"\u001b[39;49m\u001b[38;5;124;43mDigite o primeiro operando: \u001b[39;49m\u001b[38;5;124;43m\"\u001b[39;49m\u001b[43m)\u001b[49m\u001b[43m)\u001b[49m\n\u001b[1;32m      2\u001b[0m n2 \u001b[38;5;241m=\u001b[39m \u001b[38;5;28mfloat\u001b[39m(\u001b[38;5;28minput\u001b[39m(\u001b[38;5;124m\"\u001b[39m\u001b[38;5;124mDigite o segundo operando: \u001b[39m\u001b[38;5;124m\"\u001b[39m))\n\u001b[1;32m      3\u001b[0m operator \u001b[38;5;241m=\u001b[39m \u001b[38;5;28minput\u001b[39m(\u001b[38;5;124m\"\u001b[39m\u001b[38;5;124mDigite o operador (+, -, *, /): \u001b[39m\u001b[38;5;124m\"\u001b[39m)\n",
            "\u001b[0;31mTypeError\u001b[0m: float() argument must be a string or a real number, not 'PyodideFuture'"
          ],
          "output_type": "error"
        },
        {
          "output_type": "stream",
          "name": "stdin",
          "text": "Digite o primeiro operando:  12\n"
        }
      ],
      "execution_count": 4
    },
    {
      "id": "d135df39",
      "cell_type": "markdown",
      "source": "### Q2.\n\nEscreva um programa que leia os comprimentos dos 3 lados de um triângulo e diga se o triângulo é equilátero, isóceles ou escaleno. Regras:\n- Isóceles: Quaisquer dois lados com o mesmo comprimento\n- Equilátero: Os três lados tem o mesmo comprimento\n- Escaleno: Três lados de comprimento diferente \n\nNote que a ordem das condições importa! Seguem alguns exemplos de interação com seu código no terminal. \n\n```\nDigite o comprimento do lado 1: 4\nDigite o comprimento do lado 2: 4\nDigite o comprimento do lado 3: 6\nTriângulo: Isóceles\n```\n\n```\nDigite o comprimento do lado 1: 5\nDigite o comprimento do lado 2: 5\nDigite o comprimento do lado 3: 5\nTriângulo: Equilátero\n```\n\n```\nDigite o comprimento do lado 1: 7\nDigite o comprimento do lado 2: 4\nDigite o comprimento do lado 3: 9\nTriângulo: Escaleno\n```\n\n",
      "metadata": {}
    },
    {
      "id": "cfcf9a80",
      "cell_type": "code",
      "source": "## Escreva e execute seu código aqui\nlado1 = float(input(\"Digite o comprimento do lado 1: \"))\nlado2 = float(input(\"Digite o comprimento do lado 2: \"))\nlado3 = float(input(\"Digite o comprimento do lado 3: \"))\n\nif lado1 == lado2 == lado3:\n    print(\"Triângulo: Equilátero\")\nelif lado1 == lado2 or lado2 == lado3 or lado1 == lado3:\n    print(\"Triângulo: Isóceles\")\nelse:\n    print(\"Triângulo: Escaleno\")\n\n",
      "metadata": {},
      "outputs": [],
      "execution_count": null
    },
    {
      "id": "ed3405fb",
      "cell_type": "markdown",
      "source": "### Q3.\n\nVocê está desenvolvendo um sistema de avaliação de desempenho para um jogo. Escreva um programa em Python que avalia a pontuação do jogador em uma missão e atribui uma classificação com base nas seguintes condições:\n\n- Se a pontuação for menor que 70, atribua a classificação \"Insatisfatório\".\n- Se a pontuação for maior ou igual a 70, atribua a classificação \"Regular\".\n- Se a pontuação for maior ou igual a 80, atribua a classificação \"Bom\".\n- Se a pontuação for maior ou igual a 90, atribua a classificação \"Excelente\".\n\nEscreva um programa que solicita ao usuário a pontuação e imprime a classificação correspondente.",
      "metadata": {}
    },
    {
      "id": "a7a842ae",
      "cell_type": "code",
      "source": "## Escreva e execute seu código aqui\npontuacao = int(input(\"Digite a pontuação do jogador: \"))\n\nif pontuacao >= 90:\n    print(\"Classificação: Excelente\")\nelif pontuacao >= 80:\n    print(\"Classificação: Bom\")\nelif pontuacao >= 70:\n    print(\"Classificação: Regular\")\nelse:\n    print(\"Classificação: Insatisfatório\")\n",
      "metadata": {},
      "outputs": [],
      "execution_count": null
    },
    {
      "id": "6cafaa50",
      "cell_type": "markdown",
      "source": "### Q4.\n\nVocê está implementando um sistema de desconto em uma loja online. Escreva um programa em Python que calcula o desconto com base no valor total da compra e atribui diferentes níveis de desconto de acordo com as seguintes condições:\n\n- Se o valor total da compra for menor que R\\$ 50, não há desconto.\n- Se o valor total da compra for maior ou igual a R\\$ 50, atribua um desconto de 10%.\n- Se o valor total da compra for maior ou igual a R\\$ 100, atribua um desconto de 20%.\n\n\nSeguem alguns exemplos de interação com seu código no terminal. Preste atenção na formatação esperada para as saídas.\n\n```\nDigite o valor total da compra: 120\nDesconto aplicado: 20.0%\nValor final com desconto: R$96.00\n```\n\n```\nDigite o valor total da compra: 65\nDesconto aplicado: 10.0%\nValor final com desconto: R$58.50\n```\n\n```\nDigite o valor total da compra: 40\nDesconto aplicado: 0.0%\nValor final com desconto: R$40.00\n```\n\n\n",
      "metadata": {}
    },
    {
      "id": "3b1b1929",
      "cell_type": "code",
      "source": "## Escreva e execute seu código aqui\nvalorTotal = float(input(\"Digite o valor total da compra: \"))\n\nif valorTotal >= 100:\n    desconto = 0.20\nelif valorTotal >= 50:\n    desconto = 0.10\nelse:\n    desconto = 0.00\n\nvalorDesconto = valorTotal * desconto\nvalorFinal = valorTotal - valorDesconto\n\nprint(f\"Desconto aplicado: {desconto * 100:.1f}%\")\nprint(f\"Valor final com desconto: R${valorFinal:.2f}\")",
      "metadata": {},
      "outputs": [],
      "execution_count": null
    },
    {
      "id": "dc5db6d7",
      "cell_type": "markdown",
      "source": "### Q5.\n\nVocê está projetando um sistema de autenticação baseado na análise da íris (parte colorida do olho). Ao acionado, o sistema coleta e retorna 3 valores inteiros referentes a atributos da íris visível. Mas o sistema não é perfeito, tendo uma margem de erro do sensor de +/- $5$. \n\nO código abaixo tem os atributos dos 4 usuários cadastrados no sistema. Você deve completar om código, pedindo ao usuário para inserir uma nova leitura de padrão de íris. O programa deve comparar o padrão inserido com os padrões cadastrados no banco de dados. Se o padrão estiver dentro da tolerância estabelecida, o usuário é autenticado com sucesso. Caso contrário, a autenticação falha.\n\n**Dica:** A função do python ```abs()``` retorna o valor absoluto de um elemento. Ex: \n```\n>>> print(abs(987-982))\n5\n>>> print(abs(987-992))\n5\n```\n\nSeguem alguns exemplos de interação com seu código no terminal.\n\n```\nInsira o padrão de íris para autenticação.\nAtributo 1: 111\nAtributo 2: 222\nAtributo 3: 333\nAutenticação bem-sucedida! \nUsuário: 3\n```\n\n```\nInsira o padrão de íris para autenticação.\nAtributo 1: 111\nAtributo 2: 200\nAtributo 3: 333\nAutenticação falhou! \n```\n\n```\nInsira o padrão de íris para autenticação.\nAtributo 1: 982\nAtributo 2: 653\nAtributo 3: 324\nAutenticação bem-sucedida! \nUsuário: 2\n```",
      "metadata": {}
    },
    {
      "id": "b90304eb",
      "cell_type": "code",
      "source": "## Não altere os atributos definidos a seguir\niris1_a1, iris1_a2, iris1_a3 = 123, 456, 789\niris2_a1, iris2_a2, iris2_a3 = 987, 654, 321\niris3_a1, iris3_a2, iris3_a3 = 111, 222, 333\niris4_a1, iris4_a2, iris4_a3 = 444, 555, 666\n\n## Escreva e execute seu código aqui\nmargemErro = 5\n\nchallengerIris1, challengerIris2, challengerIris3 = (\n    int(input(\"Insira o primeiro valor do padrão de íris: \")),\n    int(input(\"Insira o segundo valor do padrão de íris: \")),\n    int(input(\"Insira o terceiro valor do padrão de íris: \")),\n)\n\nif (\n    abs(challengerIris1 - iris1_a1) <= margemErro\n    and abs(challengerIris2 - iris1_a2) <= margemErro\n    and abs(challengerIris3 - iris1_a3) <= margemErro\n):\n    print(\"Autenticação bem-sucedida: Usuário 1\")\nelif (\n    abs(challengerIris1 - iris2_a1) <= margemErro\n    and abs(challengerIris2 - iris2_a2) <= margemErro\n    and abs(challengerIris3 - iris2_a3) <= margemErro\n):\n    print(\"Autenticação bem-sucedida: Usuário 2\")\nelif (\n    abs(challengerIris1 - iris3_a1) <= margemErro\n    and abs(challengerIris2 - iris3_a2) <= margemErro\n    and abs(challengerIris3 - iris3_a3) <= margemErro\n):\n    print(\"Autenticação bem-sucedida: Usuário 3\")\nelif (\n    abs(challengerIris1 - iris4_a1) <= margemErro\n    and abs(challengerIris2 - iris4_a2) <= margemErro\n    and abs(challengerIris3 - iris4_a3) <= margemErro\n):\n    print(\"Autenticação bem-sucedida: Usuário 4\")\nelse:\n    print(\"Falha na autenticação\")",
      "metadata": {
        "trusted": true
      },
      "outputs": [
        {
          "ename": "<class 'TypeError'>",
          "evalue": "int() argument must be a string, a bytes-like object or a real number, not 'PyodideFuture'",
          "traceback": [
            "\u001b[0;31m---------------------------------------------------------------------------\u001b[0m",
            "\u001b[0;31mTypeError\u001b[0m                                 Traceback (most recent call last)",
            "Cell \u001b[0;32mIn[10], line 11\u001b[0m\n\u001b[1;32m      7\u001b[0m \u001b[38;5;66;03m## Escreva e execute seu código aqui\u001b[39;00m\n\u001b[1;32m      8\u001b[0m margemErro \u001b[38;5;241m=\u001b[39m \u001b[38;5;241m5\u001b[39m\n\u001b[1;32m     10\u001b[0m challengerIris1, challengerIris2, challengerIris3 \u001b[38;5;241m=\u001b[39m (\n\u001b[0;32m---> 11\u001b[0m     \u001b[38;5;28;43mint\u001b[39;49m\u001b[43m(\u001b[49m\u001b[38;5;28;43minput\u001b[39;49m\u001b[43m(\u001b[49m\u001b[38;5;124;43m\"\u001b[39;49m\u001b[38;5;124;43mInsira o primeiro valor do padrão de íris: \u001b[39;49m\u001b[38;5;124;43m\"\u001b[39;49m\u001b[43m)\u001b[49m\u001b[43m)\u001b[49m,\n\u001b[1;32m     12\u001b[0m     \u001b[38;5;28mint\u001b[39m(\u001b[38;5;28minput\u001b[39m(\u001b[38;5;124m\"\u001b[39m\u001b[38;5;124mInsira o segundo valor do padrão de íris: \u001b[39m\u001b[38;5;124m\"\u001b[39m)),\n\u001b[1;32m     13\u001b[0m     \u001b[38;5;28mint\u001b[39m(\u001b[38;5;28minput\u001b[39m(\u001b[38;5;124m\"\u001b[39m\u001b[38;5;124mInsira o terceiro valor do padrão de íris: \u001b[39m\u001b[38;5;124m\"\u001b[39m)),\n\u001b[1;32m     14\u001b[0m )\n\u001b[1;32m     16\u001b[0m \u001b[38;5;28;01mif\u001b[39;00m (\n\u001b[1;32m     17\u001b[0m     \u001b[38;5;28mabs\u001b[39m(challengerIris1 \u001b[38;5;241m-\u001b[39m iris1_a1) \u001b[38;5;241m<\u001b[39m\u001b[38;5;241m=\u001b[39m margemErro\n\u001b[1;32m     18\u001b[0m     \u001b[38;5;129;01mand\u001b[39;00m \u001b[38;5;28mabs\u001b[39m(challengerIris2 \u001b[38;5;241m-\u001b[39m iris1_a2) \u001b[38;5;241m<\u001b[39m\u001b[38;5;241m=\u001b[39m margemErro\n\u001b[1;32m     19\u001b[0m     \u001b[38;5;129;01mand\u001b[39;00m \u001b[38;5;28mabs\u001b[39m(challengerIris3 \u001b[38;5;241m-\u001b[39m iris1_a3) \u001b[38;5;241m<\u001b[39m\u001b[38;5;241m=\u001b[39m margemErro\n\u001b[1;32m     20\u001b[0m ):\n\u001b[1;32m     21\u001b[0m     \u001b[38;5;28mprint\u001b[39m(\u001b[38;5;124m\"\u001b[39m\u001b[38;5;124mAutenticação bem-sucedida: Usuário 1\u001b[39m\u001b[38;5;124m\"\u001b[39m)\n",
            "\u001b[0;31mTypeError\u001b[0m: int() argument must be a string, a bytes-like object or a real number, not 'PyodideFuture'"
          ],
          "output_type": "error"
        }
      ],
      "execution_count": 10
    },
    {
      "id": "926236b9-eb44-470c-8d3a-4c660671fc32",
      "cell_type": "code",
      "source": "",
      "metadata": {
        "trusted": true
      },
      "outputs": [],
      "execution_count": null
    }
  ]
}