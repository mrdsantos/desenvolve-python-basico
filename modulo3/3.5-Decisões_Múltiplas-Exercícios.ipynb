{
  "metadata": {
    "kernelspec": {
      "name": "python",
      "display_name": "Python (Pyodide)",
      "language": "python"
    },
    "language_info": {
      "codemirror_mode": {
        "name": "python",
        "version": 3
      },
      "file_extension": ".py",
      "mimetype": "text/x-python",
      "name": "python",
      "nbconvert_exporter": "python",
      "pygments_lexer": "ipython3",
      "version": "3.8"
    },
    "colab": {
      "provenance": []
    }
  },
  "nbformat_minor": 5,
  "nbformat": 4,
  "cells": [
    {
      "id": "559687a1",
      "cell_type": "markdown",
      "source": [
        "# Módulo 3 - Condicionais\n",
        "\n",
        "## 3.5 - Decisões Múltiplas"
      ],
      "metadata": {
        "id": "559687a1"
      }
    },
    {
      "id": "42f823b3",
      "cell_type": "markdown",
      "source": [
        "### Q1.\n",
        "\n",
        "Vamos fazer uma calculadora! Escreva um programa que solicita 3 entradas: o primeiro operando (float), o operador (caracter) e o segundo operando (float). Seu programa deve imprimir o resultado da operação solicitada, entre soma (+), subtração (-), divisão (/), multiplicação (\\*) ou potência (\\*\\*). Seu programa também deve imprimir uma mensagem de erro se a operação solicitada não estiver dentre as opções disponíveis.\n",
        "\n",
        "Seguem alguns exemplos de interação com seu código no terminal.\n",
        "\n",
        "\n",
        "```\n",
        "Digite o primeiro operando: 5.2\n",
        "Digite o operador (+, -, /, *, **): *\n",
        "Digite o segundo operando` 3\n",
        "Resultado: 5.2 * 3.0 = 15.6\n",
        "```\n",
        "\n",
        "```\n",
        "Digite o primeiro operando: 8\n",
        "Digite o operador (+, -, /, *, **): **\n",
        "Digite o segundo operando: 2\n",
        "Resultado: 8.0 * 2.0 = 64.0\n",
        "```\n",
        "\n",
        "```\n",
        "Digite o primeiro operando: 7\n",
        "Digite o operador (+, -, /, *, **): %\n",
        "Digite o segundo operando: 3.4\n",
        "Erro! Operação inválida.\n",
        "```\n",
        "\n",
        "```\n",
        "Digite o primeiro operando: 10\n",
        "Digite o operador (+, -, /, *, **): /\n",
        "Digite o segundo operando: 2.5\n",
        "Resultado: 10.0 / 2.5 = 4.0\n",
        "```\n",
        "\n"
      ],
      "metadata": {
        "id": "42f823b3"
      }
    },
    {
      "id": "c5b8cd4d",
      "cell_type": "code",
      "source": [
        "n1 = float(input(\"Digite o primeiro operando: \"))\n",
        "n2 = float(input(\"Digite o segundo operando: \"))\n",
        "operator = input(\"Digite o operador (+, -, *, /): \")\n",
        "\n",
        "if operator == '+':\n",
        "    print(f\"O resultado da soma de {n1} + {n2} é {n1 + n2}\")\n",
        "elif operator == '-':\n",
        "    print(f\"O resultado da subtração de {n1} - {n2} é {n1 - n2}\")\n",
        "elif operator == '*':\n",
        "    print(f\"O resultado da multiplicação de {n1} * {n2} é {n1 * n2}\")\n",
        "elif operator == '/':\n",
        "    print(f\"O resultado da divisão de {n1} / {n2} é {n1 / n2}\")\n",
        "elif operator == '**':\n",
        "    print(f\"O resultado da potência de {n1} ** {n2} é {n1 ** n2}\")\n",
        "else:\n",
        "    print(\"Operador inválido\")"
      ],
      "metadata": {
        "trusted": true,
        "colab": {
          "base_uri": "https://localhost:8080/"
        },
        "id": "c5b8cd4d",
        "outputId": "71ac014b-da10-498f-f38b-315be05a3dbe"
      },
      "outputs": [
        {
          "output_type": "stream",
          "name": "stdout",
          "text": [
            "Digite o primeiro operando: 2\n",
            "Digite o segundo operando: 1\n",
            "Digite o operador (+, -, *, /): +\n",
            "O resultado da soma de 2.0 + 1.0 é 3.0\n"
          ]
        }
      ],
      "execution_count": 1
    },
    {
      "id": "d135df39",
      "cell_type": "markdown",
      "source": [
        "### Q2.\n",
        "\n",
        "Escreva um programa que leia os comprimentos dos 3 lados de um triângulo e diga se o triângulo é equilátero, isóceles ou escaleno. Regras:\n",
        "- Isóceles: Quaisquer dois lados com o mesmo comprimento\n",
        "- Equilátero: Os três lados tem o mesmo comprimento\n",
        "- Escaleno: Três lados de comprimento diferente\n",
        "\n",
        "Note que a ordem das condições importa! Seguem alguns exemplos de interação com seu código no terminal.\n",
        "\n",
        "```\n",
        "Digite o comprimento do lado 1: 4\n",
        "Digite o comprimento do lado 2: 4\n",
        "Digite o comprimento do lado 3: 6\n",
        "Triângulo: Isóceles\n",
        "```\n",
        "\n",
        "```\n",
        "Digite o comprimento do lado 1: 5\n",
        "Digite o comprimento do lado 2: 5\n",
        "Digite o comprimento do lado 3: 5\n",
        "Triângulo: Equilátero\n",
        "```\n",
        "\n",
        "```\n",
        "Digite o comprimento do lado 1: 7\n",
        "Digite o comprimento do lado 2: 4\n",
        "Digite o comprimento do lado 3: 9\n",
        "Triângulo: Escaleno\n",
        "```\n",
        "\n"
      ],
      "metadata": {
        "id": "d135df39"
      }
    },
    {
      "id": "cfcf9a80",
      "cell_type": "code",
      "source": [
        "## Escreva e execute seu código aqui\n",
        "lado1 = float(input(\"Digite o comprimento do lado 1: \"))\n",
        "lado2 = float(input(\"Digite o comprimento do lado 2: \"))\n",
        "lado3 = float(input(\"Digite o comprimento do lado 3: \"))\n",
        "\n",
        "if lado1 == lado2 == lado3:\n",
        "    print(\"Triângulo: Equilátero\")\n",
        "elif lado1 == lado2 or lado2 == lado3 or lado1 == lado3:\n",
        "    print(\"Triângulo: Isóceles\")\n",
        "else:\n",
        "    print(\"Triângulo: Escaleno\")\n",
        "\n"
      ],
      "metadata": {
        "id": "cfcf9a80"
      },
      "outputs": [],
      "execution_count": null
    },
    {
      "id": "ed3405fb",
      "cell_type": "markdown",
      "source": [
        "### Q3.\n",
        "\n",
        "Você está desenvolvendo um sistema de avaliação de desempenho para um jogo. Escreva um programa em Python que avalia a pontuação do jogador em uma missão e atribui uma classificação com base nas seguintes condições:\n",
        "\n",
        "- Se a pontuação for menor que 70, atribua a classificação \"Insatisfatório\".\n",
        "- Se a pontuação for maior ou igual a 70, atribua a classificação \"Regular\".\n",
        "- Se a pontuação for maior ou igual a 80, atribua a classificação \"Bom\".\n",
        "- Se a pontuação for maior ou igual a 90, atribua a classificação \"Excelente\".\n",
        "\n",
        "Escreva um programa que solicita ao usuário a pontuação e imprime a classificação correspondente."
      ],
      "metadata": {
        "id": "ed3405fb"
      }
    },
    {
      "id": "a7a842ae",
      "cell_type": "code",
      "source": [
        "## Escreva e execute seu código aqui\n",
        "pontuacao = int(input(\"Digite a pontuação do jogador: \"))\n",
        "\n",
        "if pontuacao >= 90:\n",
        "    print(\"Classificação: Excelente\")\n",
        "elif pontuacao >= 80:\n",
        "    print(\"Classificação: Bom\")\n",
        "elif pontuacao >= 70:\n",
        "    print(\"Classificação: Regular\")\n",
        "else:\n",
        "    print(\"Classificação: Insatisfatório\")\n"
      ],
      "metadata": {
        "id": "a7a842ae"
      },
      "outputs": [],
      "execution_count": null
    },
    {
      "id": "6cafaa50",
      "cell_type": "markdown",
      "source": [
        "### Q4.\n",
        "\n",
        "Você está implementando um sistema de desconto em uma loja online. Escreva um programa em Python que calcula o desconto com base no valor total da compra e atribui diferentes níveis de desconto de acordo com as seguintes condições:\n",
        "\n",
        "- Se o valor total da compra for menor que R\\$ 50, não há desconto.\n",
        "- Se o valor total da compra for maior ou igual a R\\$ 50, atribua um desconto de 10%.\n",
        "- Se o valor total da compra for maior ou igual a R\\$ 100, atribua um desconto de 20%.\n",
        "\n",
        "\n",
        "Seguem alguns exemplos de interação com seu código no terminal. Preste atenção na formatação esperada para as saídas.\n",
        "\n",
        "```\n",
        "Digite o valor total da compra: 120\n",
        "Desconto aplicado: 20.0%\n",
        "Valor final com desconto: R$96.00\n",
        "```\n",
        "\n",
        "```\n",
        "Digite o valor total da compra: 65\n",
        "Desconto aplicado: 10.0%\n",
        "Valor final com desconto: R$58.50\n",
        "```\n",
        "\n",
        "```\n",
        "Digite o valor total da compra: 40\n",
        "Desconto aplicado: 0.0%\n",
        "Valor final com desconto: R$40.00\n",
        "```\n",
        "\n",
        "\n"
      ],
      "metadata": {
        "id": "6cafaa50"
      }
    },
    {
      "id": "3b1b1929",
      "cell_type": "code",
      "source": [
        "## Escreva e execute seu código aqui\n",
        "valorTotal = float(input(\"Digite o valor total da compra: \"))\n",
        "\n",
        "if valorTotal >= 100:\n",
        "    desconto = 0.20\n",
        "elif valorTotal >= 50:\n",
        "    desconto = 0.10\n",
        "else:\n",
        "    desconto = 0.00\n",
        "\n",
        "valorDesconto = valorTotal * desconto\n",
        "valorFinal = valorTotal - valorDesconto\n",
        "\n",
        "print(f\"Desconto aplicado: {desconto * 100:.1f}%\")\n",
        "print(f\"Valor final com desconto: R${valorFinal:.2f}\")"
      ],
      "metadata": {
        "id": "3b1b1929"
      },
      "outputs": [],
      "execution_count": null
    },
    {
      "id": "dc5db6d7",
      "cell_type": "markdown",
      "source": [
        "### Q5.\n",
        "\n",
        "Você está projetando um sistema de autenticação baseado na análise da íris (parte colorida do olho). Ao acionado, o sistema coleta e retorna 3 valores inteiros referentes a atributos da íris visível. Mas o sistema não é perfeito, tendo uma margem de erro do sensor de +/- $5$.\n",
        "\n",
        "O código abaixo tem os atributos dos 4 usuários cadastrados no sistema. Você deve completar om código, pedindo ao usuário para inserir uma nova leitura de padrão de íris. O programa deve comparar o padrão inserido com os padrões cadastrados no banco de dados. Se o padrão estiver dentro da tolerância estabelecida, o usuário é autenticado com sucesso. Caso contrário, a autenticação falha.\n",
        "\n",
        "**Dica:** A função do python ```abs()``` retorna o valor absoluto de um elemento. Ex:\n",
        "```\n",
        ">>> print(abs(987-982))\n",
        "5\n",
        ">>> print(abs(987-992))\n",
        "5\n",
        "```\n",
        "\n",
        "Seguem alguns exemplos de interação com seu código no terminal.\n",
        "\n",
        "```\n",
        "Insira o padrão de íris para autenticação.\n",
        "Atributo 1: 111\n",
        "Atributo 2: 222\n",
        "Atributo 3: 333\n",
        "Autenticação bem-sucedida!\n",
        "Usuário: 3\n",
        "```\n",
        "\n",
        "```\n",
        "Insira o padrão de íris para autenticação.\n",
        "Atributo 1: 111\n",
        "Atributo 2: 200\n",
        "Atributo 3: 333\n",
        "Autenticação falhou!\n",
        "```\n",
        "\n",
        "```\n",
        "Insira o padrão de íris para autenticação.\n",
        "Atributo 1: 982\n",
        "Atributo 2: 653\n",
        "Atributo 3: 324\n",
        "Autenticação bem-sucedida!\n",
        "Usuário: 2\n",
        "```"
      ],
      "metadata": {
        "id": "dc5db6d7"
      }
    },
    {
      "source": [
        "## Não altere os atributos definidos a seguir\n",
        "iris1_a1, iris1_a2, iris1_a3 = 123, 456, 789\n",
        "iris2_a1, iris2_a2, iris2_a3 = 987, 654, 321\n",
        "iris3_a1, iris3_a2, iris3_a3 = 111, 222, 333\n",
        "iris4_a1, iris4_a2, iris4_a3 = 444, 555, 666\n",
        "\n",
        "## Escreva e execute seu código aqui\n",
        "margemErro = 5\n",
        "\n",
        "challengerIris1 = int(input(\"Insira o primeiro valor do padrão de íris: \")) # Get each iris value individually\n",
        "challengerIris2 = int(input(\"Insira o segundo valor do padrão de íris: \"))\n",
        "challengerIris3 = int(input(\"Insira o terceiro valor do padrão de íris: \"))\n",
        "\n",
        "if (\n",
        "    abs(challengerIris1 - iris1_a1) <= margemErro\n",
        "    and abs(challengerIris2 - iris1_a2) <= margemErro\n",
        "    and abs(challengerIris3 - iris1_a3) <= margemErro\n",
        "):\n",
        "    print(\"Autenticação bem-sucedida: Usuário 1\")\n",
        "elif (\n",
        "    abs(challengerIris1 - iris2_a1) <= margemErro\n",
        "    and abs(challengerIris2 - iris2_a2) <= margemErro\n",
        "    and abs(challengerIris3 - iris2_a3) <= margemErro\n",
        "):\n",
        "    print(\"Autenticação bem-sucedida: Usuário 2\")\n",
        "elif (\n",
        "    abs(challengerIris1 - iris3_a1) <= margemErro\n",
        "    and abs(challengerIris2 - iris3_a2) <= margemErro\n",
        "    and abs(challengerIris3 - iris3_a3) <= margemErro\n",
        "):\n",
        "    print(\"Autenticação bem-sucedida: Usuário 3\")\n",
        "elif (\n",
        "    abs(challengerIris1 - iris4_a1) <= margemErro\n",
        "    and abs(challengerIris2 - iris4_a2) <= margemErro\n",
        "    and abs(challengerIris3 - iris4_a3) <= margemErro\n",
        "):\n",
        "    print(\"Autenticação bem-sucedida: Usuário 4\")\n",
        "else:\n",
        "    print(\"Falha na autenticação\")"
      ],
      "cell_type": "code",
      "metadata": {
        "colab": {
          "base_uri": "https://localhost:8080/"
        },
        "id": "TQ_-zFTccAL1",
        "outputId": "91aa52d7-ff2c-4a9f-e67c-b6f39abb3371"
      },
      "id": "TQ_-zFTccAL1",
      "execution_count": 3,
      "outputs": [
        {
          "output_type": "stream",
          "name": "stdout",
          "text": [
            "Insira o primeiro valor do padrão de íris: 111\n",
            "Insira o segundo valor do padrão de íris: 222\n",
            "Insira o terceiro valor do padrão de íris: 333\n",
            "Autenticação bem-sucedida: Usuário 3\n"
          ]
        }
      ]
    },
    {
      "id": "926236b9-eb44-470c-8d3a-4c660671fc32",
      "cell_type": "code",
      "source": [],
      "metadata": {
        "trusted": true,
        "id": "926236b9-eb44-470c-8d3a-4c660671fc32"
      },
      "outputs": [],
      "execution_count": null
    }
  ]
}